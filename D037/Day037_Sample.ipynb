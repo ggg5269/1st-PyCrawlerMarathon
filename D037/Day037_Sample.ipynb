{
 "cells": [
  {
   "cell_type": "markdown",
   "metadata": {},
   "source": [
    "# 自動化更新機制\n",
    "\n",
    "\n",
    "* 如何定期執行爬蟲程式\n",
    "* 更新時需要注意的事情是什麼？\n"
   ]
  },
  {
   "cell_type": "markdown",
   "metadata": {},
   "source": [
    "### 方法一：在迴圈中加上 Sleep"
   ]
  },
  {
   "cell_type": "code",
   "execution_count": 2,
   "metadata": {},
   "outputs": [
    {
     "name": "stdout",
     "output_type": "stream",
     "text": [
      "2019-07-30 00:30:29\n",
      "2019-07-30 00:30:31\n",
      "2019-07-30 00:30:33\n",
      "2019-07-30 00:30:35\n",
      "2019-07-30 00:30:37\n"
     ]
    }
   ],
   "source": [
    "import time\n",
    "\n",
    "def timer(n): \n",
    "    print(time.strftime('%Y-%m-%d %X', time.localtime()))\n",
    "    return\n",
    "\n",
    "count = 0\n",
    "while True:  \n",
    "    print(time.strftime('%Y-%m-%d %X', time.localtime()))  \n",
    "    time.sleep(2)\n",
    "    count += 1\n",
    "    if count >= 5:\n",
    "        break\n"
   ]
  },
  {
   "cell_type": "markdown",
   "metadata": {},
   "source": [
    "### 方法二：利用 threading 的 Timer"
   ]
  },
  {
   "cell_type": "code",
   "execution_count": 5,
   "metadata": {},
   "outputs": [
    {
     "name": "stdout",
     "output_type": "stream",
     "text": [
      "2020-01-17 12:05:58\n"
     ]
    }
   ],
   "source": [
    "import time\n",
    "from threading import Timer\n",
    "\n",
    "def printHello(count):\n",
    "    count += 1\n",
    "    if count >= 5:\n",
    "        return\n",
    "    print(time.strftime('%Y-%m-%d %X', time.localtime()))\n",
    "    t = Timer(2, printHello, (count,)) \n",
    "    t.start() \n",
    "\n",
    "count = 0\n",
    "printHello(count)"
   ]
  },
  {
   "cell_type": "markdown",
   "metadata": {},
   "source": [
    "### 方法三：第三方套件 schedule"
   ]
  },
  {
   "cell_type": "code",
   "execution_count": 8,
   "metadata": {},
   "outputs": [
    {
     "data": {
      "text/plain": [
       "Every 2 seconds do job() (last run: [never], next run: 2020-01-17 12:07:09)"
      ]
     },
     "execution_count": 8,
     "metadata": {},
     "output_type": "execute_result"
    },
    {
     "name": "stdout",
     "output_type": "stream",
     "text": [
      "2020-01-17 12:07:09\n",
      "2020-01-17 12:07:11\n",
      "2020-01-17 12:07:13\n",
      "2020-01-17 12:07:15\n",
      "2020-01-17 12:07:17\n",
      "2020-01-17 12:07:19\n",
      "2020-01-17 12:07:21\n",
      "2020-01-17 12:07:23\n",
      "2020-01-17 12:07:25\n",
      "2020-01-17 12:07:27\n",
      "2020-01-17 12:07:29\n"
     ]
    },
    {
     "ename": "KeyboardInterrupt",
     "evalue": "",
     "output_type": "error",
     "traceback": [
      "\u001b[38;5;145mFile C:\\Users\\user\\Anaconda3\\lib\\site-packages\\IPython\\core\\\u001b[0m\u001b[1;38;5;231minteractiveshell.py\u001b[0m\u001b[38;5;145m, line 3319, in run_code\n\u001b[0m\u001b[1;38;5;59m    3281  \u001b[38;5;188m\u001b[0m\u001b[1;38;5;188masync\u001b[0m\u001b[38;5;188m \u001b[0m\u001b[1;38;5;188mdef\u001b[0m\u001b[38;5;188m \u001b[0m\u001b[38;5;188mrun_code\u001b[0m\u001b[1;38;5;188m(\u001b[0m\u001b[38;5;26mself\u001b[0m\u001b[1;38;5;188m,\u001b[0m\u001b[38;5;188m \u001b[0m\u001b[1;38;5;26mcode_obj\u001b[0m\u001b[1;38;5;188m,\u001b[0m\u001b[38;5;188m \u001b[0m\u001b[38;5;76mresult\u001b[0m\u001b[1;38;5;188m=\u001b[0m\u001b[1;38;5;188mNone\u001b[0m\u001b[1;38;5;188m,\u001b[0m\u001b[38;5;188m \u001b[0m\u001b[1;38;5;188m*\u001b[0m\u001b[1;38;5;188m,\u001b[0m\u001b[38;5;188m \u001b[0m\u001b[38;5;112masync_\u001b[0m\u001b[1;38;5;188m=\u001b[0m\u001b[1;38;5;188mFalse\u001b[0m\u001b[1;38;5;188m)\u001b[0m\u001b[1;38;5;188m:\u001b[0m\u001b[38;5;188m\n\u001b[0m\u001b[0m\u001b[38;5;102m (...)\n\u001b[0m\u001b[1;38;5;59m    3315  \u001b[38;5;188m                \u001b[0m\u001b[38;5;188mexec\u001b[0m\u001b[1;38;5;188m(\u001b[0m\u001b[38;5;188mcode\u001b[0m\u001b[1;38;5;188m,\u001b[0m\u001b[38;5;188m \u001b[0m\u001b[1;38;5;188m{\u001b[0m\u001b[38;5;188m'last_expr'\u001b[0m\u001b[1;38;5;188m:\u001b[0m\u001b[38;5;188m \u001b[0m\u001b[38;5;188mlast_expr\u001b[0m\u001b[1;38;5;188m}\u001b[0m\u001b[1;38;5;188m)\u001b[0m\u001b[38;5;188m\n\u001b[0m\u001b[0m\u001b[1;38;5;59m    3316  \u001b[38;5;188m            \u001b[0m\u001b[1;38;5;188melif\u001b[0m\u001b[38;5;188m \u001b[0m\u001b[38;5;112masync_\u001b[0m\u001b[38;5;188m \u001b[0m\u001b[1;38;5;188m:\u001b[0m\u001b[38;5;188m\n\u001b[0m\u001b[0m\u001b[1;38;5;59m    3317  \u001b[38;5;188m                \u001b[0m\u001b[1;38;5;188mawait\u001b[0m\u001b[38;5;188m \u001b[0m\u001b[38;5;188meval\u001b[0m\u001b[1;38;5;188m(\u001b[0m\u001b[1;38;5;26mcode_obj\u001b[0m\u001b[1;38;5;188m,\u001b[0m\u001b[38;5;188m \u001b[0m\u001b[1;38;5;42mself.user_global_ns\u001b[0m\u001b[1;38;5;188m,\u001b[0m\u001b[38;5;188m \u001b[0m\u001b[1;38;5;42mself.user_ns\u001b[0m\u001b[1;38;5;188m)\u001b[0m\u001b[38;5;188m\n\u001b[0m\u001b[0m\u001b[1;38;5;59m    3318  \u001b[38;5;188m            \u001b[0m\u001b[1;38;5;188melse\u001b[0m\u001b[1;38;5;188m:\u001b[0m\u001b[38;5;188m\n\u001b[0m\u001b[0m\u001b[1;38;5;188m--> 3319  \u001b[38;5;188m                \u001b[0m\u001b[38;5;188mexec\u001b[0m\u001b[1;38;5;188m(\u001b[0m\u001b[1;38;5;26mcode_obj\u001b[0m\u001b[1;38;5;188m,\u001b[0m\u001b[38;5;188m \u001b[0m\u001b[1;38;5;42mself.user_global_ns\u001b[0m\u001b[1;38;5;188m,\u001b[0m\u001b[38;5;188m \u001b[0m\u001b[1;38;5;42mself.user_ns\u001b[0m\u001b[1;38;5;188m)\u001b[0m\u001b[38;5;188m\n\u001b[0m\u001b[0m\u001b[1;38;5;59m    3320  \u001b[38;5;188m        \u001b[0m\u001b[1;38;5;188mfinally\u001b[0m\u001b[1;38;5;188m:\u001b[0m\u001b[38;5;188m\n\u001b[0m\u001b[0m\u001b[38;5;102m    ..................................................\u001b[0m\n\u001b[38;5;26m     self = <ipykernel.zmqshell.ZMQInteractiveShell object at 0x000001A5\n             2BE2F248>\n\u001b[0m\u001b[1;38;5;26m     code_obj = <code object <module> at 0x000001A536761B70, file \"<ipython-\n                 input-8-939855980296>\", line 9>\n\u001b[0m\u001b[38;5;76m     result = <ExecutionResult object at 1a52e7ca308, execution_count=8 er\n               ror_before_exec=None error_in_exec= info=<ExecutionInfo obje\n               ct at 1a5355ce7c8, raw_cell=\"import schedule\n              import time\n              \n              def job():        \n                ..\" store_history=True silent=False shell_futures=True> re\n               sult=Every 2 seconds do job() (last run: 2020-01-17 12:07:29\n               , next run: 2020-01-17 12:07:31)>\n\u001b[0m\u001b[38;5;112m     async_ = False\n\u001b[0m\u001b[1;38;5;42m     self.user_global_ns = {'__name__': '__main__',\n                            '__doc__': 'Automatically created module for IPython intera\n                            ctive environment',\n                            '__package__': None,\n                            '__loader__': None,\n                            '__spec__': None,\n                            '__builtin__': <module 'builtins' (built-in)>,\n                            '__builtins__': <module 'builtins' (built-in)>,\n                            '_ih': ['', \"import time\\n\\ndef timer(n): \\n    print(time.\n                            strftime('%Y-%m-%d %X', time.localtime()))\\n    return\\n\\nco\n                            unt = 0\\nwhile True:  \\n    print(time.strftime('%Y-%m-%d %X\n                            ', time.localtime()))  \\n    time.sleep(2)\\n    count +=...\n\u001b[0m\u001b[1;38;5;42m     self.user_ns = {'__name__': '__main__',\n                     '__doc__': 'Automatically created module for IPython intera\n                     ctive environment',\n                     '__package__': None,\n                     '__loader__': None,\n                     '__spec__': None,\n                     '__builtin__': <module 'builtins' (built-in)>,\n                     '__builtins__': <module 'builtins' (built-in)>,\n                     '_ih': ['', \"import time\\n\\ndef timer(n): \\n    print(time.\n                     strftime('%Y-%m-%d %X', time.localtime()))\\n    return\\n\\nco\n                     unt = 0\\nwhile True:  \\n    print(time.strftime('%Y-%m-%d %X\n                     ', time.localtime()))  \\n    time.sleep(2)\\n    count +=...\n\u001b[0m\u001b[38;5;102m    ..................................................\u001b[0m\n\n\u001b[38;5;145mFile \u001b[0m\u001b[1;38;5;231m<ipython-input-8-939855980296>\u001b[0m\u001b[38;5;145m, line 10, in <module>\n\u001b[0m\u001b[1;38;5;59m    6    \u001b[38;5;188m\n\u001b[0m\u001b[0m\u001b[1;38;5;59m    7    \u001b[38;5;42mschedule.every\u001b[0m\u001b[1;38;5;188m(\u001b[0m\u001b[38;5;188m2\u001b[0m\u001b[1;38;5;188m)\u001b[0m\u001b[1;38;5;188m.\u001b[0m\u001b[38;5;188mseconds.do\u001b[0m\u001b[1;38;5;188m(\u001b[0m\u001b[38;5;188mjob\u001b[0m\u001b[1;38;5;188m)\u001b[0m\u001b[38;5;188m\n\u001b[0m\u001b[0m\u001b[1;38;5;59m    8    \u001b[38;5;188m\n\u001b[0m\u001b[0m\u001b[1;38;5;59m    9    \u001b[1;38;5;188mwhile\u001b[0m\u001b[38;5;188m \u001b[0m\u001b[1;38;5;188mTrue\u001b[0m\u001b[1;38;5;188m:\u001b[0m\u001b[38;5;188m\n\u001b[0m\u001b[0m\u001b[1;38;5;188m--> 10   \u001b[38;5;188m    \u001b[0m\u001b[1;38;5;43mschedule.run_pending\u001b[0m\u001b[1;38;5;188m(\u001b[0m\u001b[1;38;5;188m)\u001b[0m\u001b[38;5;188m\n\u001b[0m\u001b[0m\u001b[38;5;102m    ..................................................\u001b[0m\n\u001b[38;5;42m     schedule.every = <function 'every' __init__.py:552>\n\u001b[0m\u001b[1;38;5;43m     schedule.run_pending = <function 'run_pending' __init__.py:559>\n\u001b[0m\u001b[38;5;102m    ..................................................\u001b[0m\n\n\u001b[38;5;145mFile C:\\Users\\user\\Anaconda3\\lib\\site-packages\\schedule\\\u001b[0m\u001b[1;38;5;231m__init__.py\u001b[0m\u001b[38;5;145m, line 563, in run_pending\n\u001b[0m\u001b[1;38;5;59m    559  \u001b[1;38;5;188mdef\u001b[0m\u001b[38;5;188m \u001b[0m\u001b[38;5;188mrun_pending\u001b[0m\u001b[1;38;5;188m(\u001b[0m\u001b[1;38;5;188m)\u001b[0m\u001b[1;38;5;188m:\u001b[0m\u001b[38;5;188m\n\u001b[0m\u001b[0m\u001b[1;38;5;59m    560  \u001b[38;5;188m    \"\"\"Calls :meth:`run_pending <Scheduler.run_pending>` on the\n\u001b[0m\u001b[0m\u001b[1;38;5;59m    561  \u001b[38;5;188m    :data:`default scheduler instance <default_scheduler>`.\n\u001b[0m\u001b[0m\u001b[1;38;5;59m    562  \u001b[38;5;188m    \"\"\"\n\u001b[0m\u001b[0m\u001b[1;38;5;188m--> 563  \u001b[38;5;188m    \u001b[0m\u001b[1;38;5;26mdefault_scheduler.run_pending\u001b[0m\u001b[1;38;5;188m(\u001b[0m\u001b[1;38;5;188m)\u001b[0m\u001b[38;5;188m\n\u001b[0m\u001b[0m\u001b[38;5;102m    ..................................................\u001b[0m\n\u001b[1;38;5;26m     default_scheduler.run_pending = <method 'Scheduler.run_pending' of <schedule.Scheduler objec\n                                      t at 0x000001A535626108> __init__.py:82>\n\u001b[0m\u001b[38;5;102m    ..................................................\u001b[0m\n\n---- (full traceback above) ----\n\u001b[38;5;145mFile C:\\Users\\user\\Anaconda3\\lib\\site-packages\\IPython\\core\\\u001b[0m\u001b[1;38;5;231minteractiveshell.py\u001b[0m\u001b[38;5;145m, line 3319, in run_code\n\u001b[0m    \u001b[38;5;188m\u001b[0m\u001b[38;5;188mexec\u001b[0m\u001b[1;38;5;188m(\u001b[0m\u001b[38;5;188mcode_obj\u001b[0m\u001b[1;38;5;188m,\u001b[0m\u001b[38;5;188m \u001b[0m\u001b[38;5;188mself.user_global_ns\u001b[0m\u001b[1;38;5;188m,\u001b[0m\u001b[38;5;188m \u001b[0m\u001b[38;5;188mself.user_ns\u001b[0m\u001b[1;38;5;188m)\u001b[0m\u001b[38;5;188m\n\u001b[0m\u001b[38;5;145mFile \u001b[0m\u001b[1;38;5;231m<ipython-input-8-939855980296>\u001b[0m\u001b[38;5;145m, line 10, in <module>\n\u001b[0m    \u001b[38;5;188m\u001b[0m\u001b[38;5;188mschedule.run_pending\u001b[0m\u001b[1;38;5;188m(\u001b[0m\u001b[1;38;5;188m)\u001b[0m\u001b[38;5;188m\n\u001b[0m\u001b[38;5;145mFile C:\\Users\\user\\Anaconda3\\lib\\site-packages\\schedule\\\u001b[0m\u001b[1;38;5;231m__init__.py\u001b[0m\u001b[38;5;145m, line 563, in run_pending\n\u001b[0m    \u001b[38;5;188m\u001b[0m\u001b[38;5;188mdefault_scheduler.run_pending\u001b[0m\u001b[1;38;5;188m(\u001b[0m\u001b[1;38;5;188m)\u001b[0m\u001b[38;5;188m\n\u001b[0m\n\u001b[1;38;5;160mKeyboardInterrupt\u001b[0m\u001b[1;38;5;160m\u001b[0m"
     ]
    }
   ],
   "source": [
    "import schedule\n",
    "import time\n",
    "\n",
    "def job():        \n",
    "    print(time.strftime('%Y-%m-%d %X', time.localtime()))\n",
    "\n",
    "schedule.every(2).seconds.do(job)\n",
    "\n",
    "while True:\n",
    "    schedule.run_pending()"
   ]
  },
  {
   "cell_type": "markdown",
   "metadata": {},
   "source": [
    "## 作業目標\n",
    "\n",
    "* 列舉一個是需要用自動化更新的機制來達成的爬蟲應用。"
   ]
  },
  {
   "cell_type": "code",
   "execution_count": null,
   "metadata": {},
   "outputs": [],
   "source": []
  }
 ],
 "metadata": {
  "kernelspec": {
   "display_name": "Python 3",
   "language": "python",
   "name": "python3"
  },
  "language_info": {
   "codemirror_mode": {
    "name": "ipython",
    "version": 3
   },
   "file_extension": ".py",
   "mimetype": "text/x-python",
   "name": "python",
   "nbconvert_exporter": "python",
   "pygments_lexer": "ipython3",
   "version": "3.7.5"
  }
 },
 "nbformat": 4,
 "nbformat_minor": 4
}
