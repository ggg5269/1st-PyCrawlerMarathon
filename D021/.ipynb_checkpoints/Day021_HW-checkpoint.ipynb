{
 "cells": [
  {
   "cell_type": "markdown",
   "metadata": {},
   "source": [
    "# Ettoday 網路爬蟲實作練習\n",
    "\n",
    "\n",
    "* 能夠利用 Request + BeatifulSour 撰寫爬蟲，並存放到合適的資料結構\n"
   ]
  },
  {
   "cell_type": "markdown",
   "metadata": {},
   "source": [
    "## 作業目標\n",
    "\n",
    "根據範例：\n",
    "\n",
    "1. 取出今天所有的新聞\n",
    "2. 取出現在時間兩小時內的新聞\n",
    "3. 根據範例，取出三天前下午三點到五點的新聞"
   ]
  },
  {
   "cell_type": "markdown",
   "metadata": {},
   "source": [
    "## 1. 取出今天所有的新聞"
   ]
  },
  {
   "cell_type": "code",
   "execution_count": 9,
   "metadata": {},
   "outputs": [],
   "source": [
    "from selenium import webdriver\n",
    "from bs4 import BeautifulSoup\n",
    "import time\n",
    "import pandas as pd\n",
    "import datetime"
   ]
  },
  {
   "cell_type": "code",
   "execution_count": 35,
   "metadata": {},
   "outputs": [],
   "source": [
    "df = pd.DataFrame(columns=[\"datetime\", \"title\"])"
   ]
  },
  {
   "cell_type": "code",
   "execution_count": 36,
   "metadata": {},
   "outputs": [],
   "source": [
    "browser = webdriver.Chrome(executable_path='chromedriver')\n",
    "browser.get(\"https://www.ettoday.net/news/news-list.htm\")"
   ]
  },
  {
   "cell_type": "code",
   "execution_count": 28,
   "metadata": {},
   "outputs": [],
   "source": [
    "for i in range(100):\n",
    "    time.sleep(1)\n",
    "    browser.execute_script(\"window.scrollTo(0, document.body.scrollHeight);\")"
   ]
  },
  {
   "cell_type": "code",
   "execution_count": 37,
   "metadata": {},
   "outputs": [],
   "source": [
    "html_source = browser.page_source"
   ]
  },
  {
   "cell_type": "code",
   "execution_count": 38,
   "metadata": {},
   "outputs": [],
   "source": [
    "soup = BeautifulSoup(html_source, \"html5lib\")\n",
    "\n",
    "for idx, d in enumerate(soup.find(class_=\"part_list_2\").find_all('h3')):\n",
    "    date_text = d.find(class_=\"date\").text\n",
    "    date_obj = datetime.datetime.strptime(date_text, '%Y/%m/%d %H:%M')\n",
    "    df.loc[idx] = [date_obj, d.find_all('a')[-1].text]"
   ]
  },
  {
   "cell_type": "code",
   "execution_count": 39,
   "metadata": {},
   "outputs": [],
   "source": [
    "browser.quit();"
   ]
  },
  {
   "cell_type": "code",
   "execution_count": 40,
   "metadata": {},
   "outputs": [
    {
     "data": {
      "text/html": [
       "<div>\n",
       "<style scoped>\n",
       "    .dataframe tbody tr th:only-of-type {\n",
       "        vertical-align: middle;\n",
       "    }\n",
       "\n",
       "    .dataframe tbody tr th {\n",
       "        vertical-align: top;\n",
       "    }\n",
       "\n",
       "    .dataframe thead th {\n",
       "        text-align: right;\n",
       "    }\n",
       "</style>\n",
       "<table border=\"1\" class=\"dataframe\">\n",
       "  <thead>\n",
       "    <tr style=\"text-align: right;\">\n",
       "      <th></th>\n",
       "      <th>datetime</th>\n",
       "      <th>title</th>\n",
       "    </tr>\n",
       "  </thead>\n",
       "  <tbody>\n",
       "    <tr>\n",
       "      <th>0</th>\n",
       "      <td>2019-12-25 10:45:00</td>\n",
       "      <td>女醫生平安夜魂斷診間！慘遭病人家屬「割喉放血」…氣管食管全斷血流乾</td>\n",
       "    </tr>\n",
       "    <tr>\n",
       "      <th>1</th>\n",
       "      <td>2019-12-25 10:45:00</td>\n",
       "      <td>18歲男打工買500萬房！爽炫置產秘訣　卻遭網友酸爆</td>\n",
       "    </tr>\n",
       "    <tr>\n",
       "      <th>2</th>\n",
       "      <td>2019-12-25 10:44:00</td>\n",
       "      <td>瑞芳嬤散步摔邊坡！竟是移工撞倒再丟下橋　殺人未遂送辦</td>\n",
       "    </tr>\n",
       "    <tr>\n",
       "      <th>3</th>\n",
       "      <td>2019-12-25 10:43:00</td>\n",
       "      <td>庫茲馬深陷交易風波坦言很煩　仍享受球隊贏球氛圍</td>\n",
       "    </tr>\n",
       "    <tr>\n",
       "      <th>4</th>\n",
       "      <td>2019-12-25 10:41:00</td>\n",
       "      <td>iPhone 2020銷售前景樂觀　調研：三分之一果粉會升級5G機種</td>\n",
       "    </tr>\n",
       "    <tr>\n",
       "      <th>...</th>\n",
       "      <td>...</td>\n",
       "      <td>...</td>\n",
       "    </tr>\n",
       "    <tr>\n",
       "      <th>775</th>\n",
       "      <td>2019-12-24 10:05:00</td>\n",
       "      <td>福斯Touran車展限量優惠109.8萬元起　入主送1.5萬公里免費保養</td>\n",
       "    </tr>\n",
       "    <tr>\n",
       "      <th>776</th>\n",
       "      <td>2019-12-24 10:03:00</td>\n",
       "      <td>吃炒飯也可以很時髦　結合台菜與調酒的「心潮飯店」進駐微風信義</td>\n",
       "    </tr>\n",
       "    <tr>\n",
       "      <th>777</th>\n",
       "      <td>2019-12-24 10:02:00</td>\n",
       "      <td>林依晨親下廚慶祝結婚5周年！　「飯碗凹角藏愛心」：謝謝HONEY的包容與深愛</td>\n",
       "    </tr>\n",
       "    <tr>\n",
       "      <th>778</th>\n",
       "      <td>2019-12-24 10:00:00</td>\n",
       "      <td>連續完成古巴八字、9G小轉彎　F-16少校飛行員親解操作奧秘</td>\n",
       "    </tr>\n",
       "    <tr>\n",
       "      <th>779</th>\n",
       "      <td>2019-12-24 10:00:00</td>\n",
       "      <td>必吃草莓冰多到滿出來！苗栗夢幻巧克力莊園　還能動手玩DIY</td>\n",
       "    </tr>\n",
       "  </tbody>\n",
       "</table>\n",
       "<p>780 rows × 2 columns</p>\n",
       "</div>"
      ],
      "text/plain": [
       "               datetime                                   title\n",
       "0   2019-12-25 10:45:00       女醫生平安夜魂斷診間！慘遭病人家屬「割喉放血」…氣管食管全斷血流乾\n",
       "1   2019-12-25 10:45:00              18歲男打工買500萬房！爽炫置產秘訣　卻遭網友酸爆\n",
       "2   2019-12-25 10:44:00              瑞芳嬤散步摔邊坡！竟是移工撞倒再丟下橋　殺人未遂送辦\n",
       "3   2019-12-25 10:43:00                 庫茲馬深陷交易風波坦言很煩　仍享受球隊贏球氛圍\n",
       "4   2019-12-25 10:41:00      iPhone 2020銷售前景樂觀　調研：三分之一果粉會升級5G機種\n",
       "..                  ...                                     ...\n",
       "775 2019-12-24 10:05:00    福斯Touran車展限量優惠109.8萬元起　入主送1.5萬公里免費保養\n",
       "776 2019-12-24 10:03:00          吃炒飯也可以很時髦　結合台菜與調酒的「心潮飯店」進駐微風信義\n",
       "777 2019-12-24 10:02:00  林依晨親下廚慶祝結婚5周年！　「飯碗凹角藏愛心」：謝謝HONEY的包容與深愛\n",
       "778 2019-12-24 10:00:00          連續完成古巴八字、9G小轉彎　F-16少校飛行員親解操作奧秘\n",
       "779 2019-12-24 10:00:00           必吃草莓冰多到滿出來！苗栗夢幻巧克力莊園　還能動手玩DIY\n",
       "\n",
       "[780 rows x 2 columns]"
      ]
     },
     "execution_count": 40,
     "metadata": {},
     "output_type": "execute_result"
    }
   ],
   "source": [
    "df"
   ]
  },
  {
   "cell_type": "markdown",
   "metadata": {},
   "source": [
    "## 2. 取出現在時間兩小時內的新聞"
   ]
  },
  {
   "cell_type": "code",
   "execution_count": 41,
   "metadata": {},
   "outputs": [
    {
     "data": {
      "text/html": [
       "<div>\n",
       "<style scoped>\n",
       "    .dataframe tbody tr th:only-of-type {\n",
       "        vertical-align: middle;\n",
       "    }\n",
       "\n",
       "    .dataframe tbody tr th {\n",
       "        vertical-align: top;\n",
       "    }\n",
       "\n",
       "    .dataframe thead th {\n",
       "        text-align: right;\n",
       "    }\n",
       "</style>\n",
       "<table border=\"1\" class=\"dataframe\">\n",
       "  <thead>\n",
       "    <tr style=\"text-align: right;\">\n",
       "      <th></th>\n",
       "      <th>datetime</th>\n",
       "      <th>title</th>\n",
       "    </tr>\n",
       "  </thead>\n",
       "  <tbody>\n",
       "    <tr>\n",
       "      <th>0</th>\n",
       "      <td>2019-12-25 10:45:00</td>\n",
       "      <td>女醫生平安夜魂斷診間！慘遭病人家屬「割喉放血」…氣管食管全斷血流乾</td>\n",
       "    </tr>\n",
       "    <tr>\n",
       "      <th>1</th>\n",
       "      <td>2019-12-25 10:45:00</td>\n",
       "      <td>18歲男打工買500萬房！爽炫置產秘訣　卻遭網友酸爆</td>\n",
       "    </tr>\n",
       "    <tr>\n",
       "      <th>2</th>\n",
       "      <td>2019-12-25 10:44:00</td>\n",
       "      <td>瑞芳嬤散步摔邊坡！竟是移工撞倒再丟下橋　殺人未遂送辦</td>\n",
       "    </tr>\n",
       "    <tr>\n",
       "      <th>3</th>\n",
       "      <td>2019-12-25 10:43:00</td>\n",
       "      <td>庫茲馬深陷交易風波坦言很煩　仍享受球隊贏球氛圍</td>\n",
       "    </tr>\n",
       "    <tr>\n",
       "      <th>4</th>\n",
       "      <td>2019-12-25 10:41:00</td>\n",
       "      <td>iPhone 2020銷售前景樂觀　調研：三分之一果粉會升級5G機種</td>\n",
       "    </tr>\n",
       "    <tr>\n",
       "      <th>...</th>\n",
       "      <td>...</td>\n",
       "      <td>...</td>\n",
       "    </tr>\n",
       "    <tr>\n",
       "      <th>62</th>\n",
       "      <td>2019-12-25 09:00:00</td>\n",
       "      <td>進擊的青埔房市　入門價輕鬆成家</td>\n",
       "    </tr>\n",
       "    <tr>\n",
       "      <th>63</th>\n",
       "      <td>2019-12-25 08:58:00</td>\n",
       "      <td>台中知名幼兒園爆「體罰霸凌」！女童流淚畫出「魔鬼廁所」　5分鐘沒吃完飯就關</td>\n",
       "    </tr>\n",
       "    <tr>\n",
       "      <th>64</th>\n",
       "      <td>2019-12-25 08:56:00</td>\n",
       "      <td>韓國瑜12/29台中造勢晚會卡司出爐　不畏嘲諷仍合唱《隱形的翅膀》</td>\n",
       "    </tr>\n",
       "    <tr>\n",
       "      <th>65</th>\n",
       "      <td>2019-12-25 08:51:00</td>\n",
       "      <td>瘋電影／花生醬獵鷹的願望　唐氏症也能擁有出路</td>\n",
       "    </tr>\n",
       "    <tr>\n",
       "      <th>66</th>\n",
       "      <td>2019-12-25 08:50:00</td>\n",
       "      <td>美股漲跌互見 　台指期開盤上揚6點</td>\n",
       "    </tr>\n",
       "  </tbody>\n",
       "</table>\n",
       "<p>67 rows × 2 columns</p>\n",
       "</div>"
      ],
      "text/plain": [
       "              datetime                                  title\n",
       "0  2019-12-25 10:45:00      女醫生平安夜魂斷診間！慘遭病人家屬「割喉放血」…氣管食管全斷血流乾\n",
       "1  2019-12-25 10:45:00             18歲男打工買500萬房！爽炫置產秘訣　卻遭網友酸爆\n",
       "2  2019-12-25 10:44:00             瑞芳嬤散步摔邊坡！竟是移工撞倒再丟下橋　殺人未遂送辦\n",
       "3  2019-12-25 10:43:00                庫茲馬深陷交易風波坦言很煩　仍享受球隊贏球氛圍\n",
       "4  2019-12-25 10:41:00     iPhone 2020銷售前景樂觀　調研：三分之一果粉會升級5G機種\n",
       "..                 ...                                    ...\n",
       "62 2019-12-25 09:00:00                        進擊的青埔房市　入門價輕鬆成家\n",
       "63 2019-12-25 08:58:00  台中知名幼兒園爆「體罰霸凌」！女童流淚畫出「魔鬼廁所」　5分鐘沒吃完飯就關\n",
       "64 2019-12-25 08:56:00      韓國瑜12/29台中造勢晚會卡司出爐　不畏嘲諷仍合唱《隱形的翅膀》\n",
       "65 2019-12-25 08:51:00                瘋電影／花生醬獵鷹的願望　唐氏症也能擁有出路　\n",
       "66 2019-12-25 08:50:00                      美股漲跌互見 　台指期開盤上揚6點\n",
       "\n",
       "[67 rows x 2 columns]"
      ]
     },
     "execution_count": 41,
     "metadata": {},
     "output_type": "execute_result"
    }
   ],
   "source": [
    "df[df['datetime'] > datetime.datetime.now() - datetime.timedelta(hours=2)]"
   ]
  },
  {
   "cell_type": "markdown",
   "metadata": {},
   "source": [
    "## 3. 根據範例，取出三天前下午三點到五點的新聞"
   ]
  },
  {
   "cell_type": "code",
   "execution_count": 55,
   "metadata": {},
   "outputs": [],
   "source": [
    "time3 = datetime.datetime.strptime(\"2019/12/24 15:00\", '%Y/%m/%d %H:%M')\n",
    "time5 = datetime.datetime.strptime(\"2019/12/24 17:00\", '%Y/%m/%d %H:%M')"
   ]
  },
  {
   "cell_type": "code",
   "execution_count": 53,
   "metadata": {},
   "outputs": [
    {
     "name": "stderr",
     "output_type": "stream",
     "text": [
      "C:\\Users\\user\\Anaconda3\\lib\\site-packages\\ipykernel_launcher.py:1: UserWarning: Boolean Series key will be reindexed to match DataFrame index.\n",
      "  \"\"\"Entry point for launching an IPython kernel.\n"
     ]
    },
    {
     "data": {
      "text/html": [
       "<div>\n",
       "<style scoped>\n",
       "    .dataframe tbody tr th:only-of-type {\n",
       "        vertical-align: middle;\n",
       "    }\n",
       "\n",
       "    .dataframe tbody tr th {\n",
       "        vertical-align: top;\n",
       "    }\n",
       "\n",
       "    .dataframe thead th {\n",
       "        text-align: right;\n",
       "    }\n",
       "</style>\n",
       "<table border=\"1\" class=\"dataframe\">\n",
       "  <thead>\n",
       "    <tr style=\"text-align: right;\">\n",
       "      <th></th>\n",
       "      <th>datetime</th>\n",
       "      <th>title</th>\n",
       "    </tr>\n",
       "  </thead>\n",
       "  <tbody>\n",
       "    <tr>\n",
       "      <th>358</th>\n",
       "      <td>2019-12-24 16:58:00</td>\n",
       "      <td>台灣虎斑送養加國窩籠發抖　新媽陪牠從膽小狗變大帥哥</td>\n",
       "    </tr>\n",
       "    <tr>\n",
       "      <th>359</th>\n",
       "      <td>2019-12-24 16:58:00</td>\n",
       "      <td>泡麵封面藏企鵝！女大生看到出神驚呼「真的有」　網笑：他白天還打網球</td>\n",
       "    </tr>\n",
       "    <tr>\n",
       "      <th>360</th>\n",
       "      <td>2019-12-24 16:57:00</td>\n",
       "      <td>Merry Christmas繽紛耶誕城！　2019魔幻耶誕在宜蘭頭城</td>\n",
       "    </tr>\n",
       "    <tr>\n",
       "      <th>361</th>\n",
       "      <td>2019-12-24 16:56:00</td>\n",
       "      <td>把握這三招絕世美照Get！林進、琳妲攜手玫瑰茶教主征服鎂光燈</td>\n",
       "    </tr>\n",
       "    <tr>\n",
       "      <th>362</th>\n",
       "      <td>2019-12-24 16:55:00</td>\n",
       "      <td>6搶1球衣維持CT　吳志揚：重點在戰力、穿什麼都一樣</td>\n",
       "    </tr>\n",
       "    <tr>\n",
       "      <th>...</th>\n",
       "      <td>...</td>\n",
       "      <td>...</td>\n",
       "    </tr>\n",
       "    <tr>\n",
       "      <th>493</th>\n",
       "      <td>2019-12-24 15:05:00</td>\n",
       "      <td>UBI車險享保費折扣「行蹤定位全被記錄」！投保誘因不高…產險業淚：單月賣不到10張</td>\n",
       "    </tr>\n",
       "    <tr>\n",
       "      <th>494</th>\n",
       "      <td>2019-12-24 15:05:00</td>\n",
       "      <td>4汽缸250cc的咆嘯！KAWASAKI聖誕大禮「ZX-25R」排氣聲浪公開</td>\n",
       "    </tr>\n",
       "    <tr>\n",
       "      <th>495</th>\n",
       "      <td>2019-12-24 15:04:00</td>\n",
       "      <td>全台唯一跨年雙現場　台中3百台無人機打造6百秒燈光秀</td>\n",
       "    </tr>\n",
       "    <tr>\n",
       "      <th>496</th>\n",
       "      <td>2019-12-24 15:03:00</td>\n",
       "      <td>羅明才扮聖誕老人徒步拜票　「陸戰實力雄厚」7連霸呼聲高</td>\n",
       "    </tr>\n",
       "    <tr>\n",
       "      <th>497</th>\n",
       "      <td>2019-12-24 15:01:00</td>\n",
       "      <td>徵信業認真過頭！潛入女子住處偷裝2監視器1追蹤器　判刑5個月</td>\n",
       "    </tr>\n",
       "  </tbody>\n",
       "</table>\n",
       "<p>140 rows × 2 columns</p>\n",
       "</div>"
      ],
      "text/plain": [
       "               datetime                                      title\n",
       "358 2019-12-24 16:58:00                  台灣虎斑送養加國窩籠發抖　新媽陪牠從膽小狗變大帥哥\n",
       "359 2019-12-24 16:58:00          泡麵封面藏企鵝！女大生看到出神驚呼「真的有」　網笑：他白天還打網球\n",
       "360 2019-12-24 16:57:00        Merry Christmas繽紛耶誕城！　2019魔幻耶誕在宜蘭頭城\n",
       "361 2019-12-24 16:56:00             把握這三招絕世美照Get！林進、琳妲攜手玫瑰茶教主征服鎂光燈\n",
       "362 2019-12-24 16:55:00                 6搶1球衣維持CT　吳志揚：重點在戰力、穿什麼都一樣\n",
       "..                  ...                                        ...\n",
       "493 2019-12-24 15:05:00  UBI車險享保費折扣「行蹤定位全被記錄」！投保誘因不高…產險業淚：單月賣不到10張\n",
       "494 2019-12-24 15:05:00     4汽缸250cc的咆嘯！KAWASAKI聖誕大禮「ZX-25R」排氣聲浪公開\n",
       "495 2019-12-24 15:04:00                 全台唯一跨年雙現場　台中3百台無人機打造6百秒燈光秀\n",
       "496 2019-12-24 15:03:00                羅明才扮聖誕老人徒步拜票　「陸戰實力雄厚」7連霸呼聲高\n",
       "497 2019-12-24 15:01:00             徵信業認真過頭！潛入女子住處偷裝2監視器1追蹤器　判刑5個月\n",
       "\n",
       "[140 rows x 2 columns]"
      ]
     },
     "execution_count": 53,
     "metadata": {},
     "output_type": "execute_result"
    }
   ],
   "source": [
    "df[df['datetime'] > time3][df['datetime'] < time5]"
   ]
  },
  {
   "cell_type": "code",
   "execution_count": 67,
   "metadata": {},
   "outputs": [
    {
     "data": {
      "text/html": [
       "<div>\n",
       "<style scoped>\n",
       "    .dataframe tbody tr th:only-of-type {\n",
       "        vertical-align: middle;\n",
       "    }\n",
       "\n",
       "    .dataframe tbody tr th {\n",
       "        vertical-align: top;\n",
       "    }\n",
       "\n",
       "    .dataframe thead th {\n",
       "        text-align: right;\n",
       "    }\n",
       "</style>\n",
       "<table border=\"1\" class=\"dataframe\">\n",
       "  <thead>\n",
       "    <tr style=\"text-align: right;\">\n",
       "      <th></th>\n",
       "      <th>datetime</th>\n",
       "      <th>title</th>\n",
       "    </tr>\n",
       "  </thead>\n",
       "  <tbody>\n",
       "    <tr>\n",
       "      <th>358</th>\n",
       "      <td>2019-12-24 16:58:00</td>\n",
       "      <td>台灣虎斑送養加國窩籠發抖　新媽陪牠從膽小狗變大帥哥</td>\n",
       "    </tr>\n",
       "    <tr>\n",
       "      <th>359</th>\n",
       "      <td>2019-12-24 16:58:00</td>\n",
       "      <td>泡麵封面藏企鵝！女大生看到出神驚呼「真的有」　網笑：他白天還打網球</td>\n",
       "    </tr>\n",
       "    <tr>\n",
       "      <th>360</th>\n",
       "      <td>2019-12-24 16:57:00</td>\n",
       "      <td>Merry Christmas繽紛耶誕城！　2019魔幻耶誕在宜蘭頭城</td>\n",
       "    </tr>\n",
       "    <tr>\n",
       "      <th>361</th>\n",
       "      <td>2019-12-24 16:56:00</td>\n",
       "      <td>把握這三招絕世美照Get！林進、琳妲攜手玫瑰茶教主征服鎂光燈</td>\n",
       "    </tr>\n",
       "    <tr>\n",
       "      <th>362</th>\n",
       "      <td>2019-12-24 16:55:00</td>\n",
       "      <td>6搶1球衣維持CT　吳志揚：重點在戰力、穿什麼都一樣</td>\n",
       "    </tr>\n",
       "    <tr>\n",
       "      <th>...</th>\n",
       "      <td>...</td>\n",
       "      <td>...</td>\n",
       "    </tr>\n",
       "    <tr>\n",
       "      <th>493</th>\n",
       "      <td>2019-12-24 15:05:00</td>\n",
       "      <td>UBI車險享保費折扣「行蹤定位全被記錄」！投保誘因不高…產險業淚：單月賣不到10張</td>\n",
       "    </tr>\n",
       "    <tr>\n",
       "      <th>494</th>\n",
       "      <td>2019-12-24 15:05:00</td>\n",
       "      <td>4汽缸250cc的咆嘯！KAWASAKI聖誕大禮「ZX-25R」排氣聲浪公開</td>\n",
       "    </tr>\n",
       "    <tr>\n",
       "      <th>495</th>\n",
       "      <td>2019-12-24 15:04:00</td>\n",
       "      <td>全台唯一跨年雙現場　台中3百台無人機打造6百秒燈光秀</td>\n",
       "    </tr>\n",
       "    <tr>\n",
       "      <th>496</th>\n",
       "      <td>2019-12-24 15:03:00</td>\n",
       "      <td>羅明才扮聖誕老人徒步拜票　「陸戰實力雄厚」7連霸呼聲高</td>\n",
       "    </tr>\n",
       "    <tr>\n",
       "      <th>497</th>\n",
       "      <td>2019-12-24 15:01:00</td>\n",
       "      <td>徵信業認真過頭！潛入女子住處偷裝2監視器1追蹤器　判刑5個月</td>\n",
       "    </tr>\n",
       "  </tbody>\n",
       "</table>\n",
       "<p>140 rows × 2 columns</p>\n",
       "</div>"
      ],
      "text/plain": [
       "               datetime                                      title\n",
       "358 2019-12-24 16:58:00                  台灣虎斑送養加國窩籠發抖　新媽陪牠從膽小狗變大帥哥\n",
       "359 2019-12-24 16:58:00          泡麵封面藏企鵝！女大生看到出神驚呼「真的有」　網笑：他白天還打網球\n",
       "360 2019-12-24 16:57:00        Merry Christmas繽紛耶誕城！　2019魔幻耶誕在宜蘭頭城\n",
       "361 2019-12-24 16:56:00             把握這三招絕世美照Get！林進、琳妲攜手玫瑰茶教主征服鎂光燈\n",
       "362 2019-12-24 16:55:00                 6搶1球衣維持CT　吳志揚：重點在戰力、穿什麼都一樣\n",
       "..                  ...                                        ...\n",
       "493 2019-12-24 15:05:00  UBI車險享保費折扣「行蹤定位全被記錄」！投保誘因不高…產險業淚：單月賣不到10張\n",
       "494 2019-12-24 15:05:00     4汽缸250cc的咆嘯！KAWASAKI聖誕大禮「ZX-25R」排氣聲浪公開\n",
       "495 2019-12-24 15:04:00                 全台唯一跨年雙現場　台中3百台無人機打造6百秒燈光秀\n",
       "496 2019-12-24 15:03:00                羅明才扮聖誕老人徒步拜票　「陸戰實力雄厚」7連霸呼聲高\n",
       "497 2019-12-24 15:01:00             徵信業認真過頭！潛入女子住處偷裝2監視器1追蹤器　判刑5個月\n",
       "\n",
       "[140 rows x 2 columns]"
      ]
     },
     "execution_count": 67,
     "metadata": {},
     "output_type": "execute_result"
    }
   ],
   "source": [
    "df[(time5 > df['datetime']) & (df['datetime'] > time3)]"
   ]
  },
  {
   "cell_type": "code",
   "execution_count": null,
   "metadata": {},
   "outputs": [],
   "source": []
  },
  {
   "cell_type": "code",
   "execution_count": null,
   "metadata": {},
   "outputs": [],
   "source": []
  }
 ],
 "metadata": {
  "kernelspec": {
   "display_name": "Python 3",
   "language": "python",
   "name": "python3"
  },
  "language_info": {
   "codemirror_mode": {
    "name": "ipython",
    "version": 3
   },
   "file_extension": ".py",
   "mimetype": "text/x-python",
   "name": "python",
   "nbconvert_exporter": "python",
   "pygments_lexer": "ipython3",
   "version": "3.7.5"
  }
 },
 "nbformat": 4,
 "nbformat_minor": 4
}
