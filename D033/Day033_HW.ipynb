{
 "cells": [
  {
   "cell_type": "markdown",
   "metadata": {},
   "source": [
    "# 反爬：登入授權模擬\n",
    "\n",
    "* 了解「登入權限機制」的反爬蟲機制\n",
    "* 「登入權限機制」反爬蟲的因應策略"
   ]
  },
  {
   "cell_type": "markdown",
   "metadata": {},
   "source": [
    "## 作業目標\n",
    "\n",
    "* 找一個需要登入的網站試試看，並說明思考流程\n",
    "（如果不知道要用哪個網站的話，可以試試看 https://github.com/new 網址，未登入時會被導向登入頁）\n",
    "\n"
   ]
  },
  {
   "cell_type": "code",
   "execution_count": 2,
   "metadata": {},
   "outputs": [],
   "source": [
    "import requests\n",
    "from bs4 import BeautifulSoup"
   ]
  },
  {
   "cell_type": "code",
   "execution_count": 23,
   "metadata": {},
   "outputs": [
    {
     "data": {
      "text/plain": [
       "'Create a New RepositorySkip to contentSearchAll GitHub↵Jump to↵No suggested jump to resultsSearchAll GitHub↵Jump to↵SearchAll GitHub↵Jump to↵Pull requestsIssuesMarketplaceExplore New repositoryImport repositoryNew gistNew organizationNew projectSigned in as ggg5269🎯FocusingEdit status🎯🎯Could not update your status, please try again.80 remainingSuggestions:🌴On vacation🤒Out sick🏠Working from home🎯FocusingBusyWhen others mention you, assign you, or request your review,GitHub will let them know that you have limited availability.Clear statusNeverNeverKeep this status until you clear your status or edit your status.in 30 minutesin 1 hourin 4 hourstodaythis weekSet statusClear statusYour profileYour repositoriesYour projectsYour starsYour gistsFeature previewHelpSettingsSign outCreate a new repositoryA repository contains all project files, including the revision history.Already have a project repository elsewhere? Import a repository.Ownerggg5269ggg5269/Repository name Great repository names are short and memorable. Need inspiration? How aboutspecial-disco?Description (optional)PublicAnyone can see this repository. You choose who can commit.You may not create public repositories by organization policy.PrivateYou choose who can see and commit to this repository.You may not create private repositories by organization policy.Due to U.S. trade controls law restrictions, paid GitHub organization services have been restricted.For free organization accounts, you may have access to free GitHub public repository services (such as access to GitHub Pages and public repositories used for open source projects) for personal communications only, and not for commercial purposes. The restriction also includes suspended access to private repository services and paid services (such as availability of private organizational accounts and GitHub Marketplace services).Please read about GitHub and Trade Controls for more information.Due to U.S. trade controls law restrictions, your GitHub account has been restricted.This means we have suspended access to private repository services and paid services for your account. For free individual accounts, you still have access to free GitHub public repository services (such as public repositories for open source projects and associated GitHub Pages and Gists).If you believe your account has been flagged in error, and you are not located in or resident in a sanctioned region, please file an appeal.Please read about GitHub and Trade Controls for more information.Your current plan does not support private repositories.Your organization\\'s owners will need to upgrade to Team.Skip this step if you’re importing an existing repository.Initialize this repository with a READMEThis will let you immediately clone the repository to your computer. Add .gitignore:None.gitignoreNoneActionscriptAdaAgdaAndroidAppEngineAppceleratorTitaniumArchLinuxPackagesAutotoolsCC++CFWheelsCMakeCUDACakePHPChefCookbookClojureCodeIgniterCommonLispComposerConcrete5CoqCraftCMSDDMDartDelphiDrupalEPiServerEagleElispElixirElmErlangExpressionEngineExtJsFancyFinaleForceDotComFortranFuelPHPGWTGitBookGoGodotGradleGrailsHaskellIGORProIdrisJENKINS_HOMEJavaJbossJekyllJoomlaJuliaKiCADKohanaKotlinLabVIEWLaravelLeiningenLemonStandLilypondLithiumLuaMagentoMavenMercuryMetaProgrammingSystemNimNodeOCamlObjective-COpaOracleFormsPackerPerlPerl6PhalconPlayFrameworkPlonePrestashopProcessingPureScriptPythonQooxdooQtRROSRailsRhodesRhomobileRubyRustSConsSassScalaSchemeScrivenerSdccSeamGenSketchUpSmalltalkSugarCRMSwiftSymfonySymphonyCMSTeXTerraformTextpatternTurboGears2Typo3UmbracoUnityUnrealEngineVVVVVisualStudioWafWordPressXojoYeomanYiiZendFrameworkZephirgcovnanocopencartstellaNothing to showAdd a license:NoneLicensesNoneApache License 2.0GNU General Public License v3.0MIT LicenseBSD 2-Clause \"Simplified\" LicenseBSD 3-Clause \"New\" or \"Revised\" LicenseCreative Commons Zero v1.0 UniversalEclipse Public License 2.0GNU Affero General Public License v3.0GNU General Public License v2.0GNU Lesser General Public License v2.1GNU Lesser General Public License v3.0Mozilla Public License 2.0The UnlicenseNothing to showCreate repositoryYou don’t appear to have permission to create repositories for this organization. Sorry about that.© 2020 GitHub, Inc.TermsPrivacySecurityStatusHelp Contact GitHubPricingAPITrainingBlogAboutYou can’t perform that action at this time.You signed in with another tab or window. Reload to refresh your session.You signed out in another tab or window. Reload to refresh your session.'"
      ]
     },
     "execution_count": 23,
     "metadata": {},
     "output_type": "execute_result"
    }
   ],
   "source": [
    "url = 'https://github.com/new'\n",
    "cookies = {\n",
    "    'user_session': '...'\n",
    "}\n",
    "resp = requests.get(url, cookies = cookies)\n",
    "soup = BeautifulSoup(resp.text, 'html5lib')\n",
    "soup.text.replace('  ', '').replace('\\n', '')"
   ]
  },
  {
   "cell_type": "code",
   "execution_count": null,
   "metadata": {},
   "outputs": [],
   "source": []
  }
 ],
 "metadata": {
  "kernelspec": {
   "display_name": "Python 3",
   "language": "python",
   "name": "python3"
  },
  "language_info": {
   "codemirror_mode": {
    "name": "ipython",
    "version": 3
   },
   "file_extension": ".py",
   "mimetype": "text/x-python",
   "name": "python",
   "nbconvert_exporter": "python",
   "pygments_lexer": "ipython3",
   "version": "3.7.5"
  }
 },
 "nbformat": 4,
 "nbformat_minor": 4
}
