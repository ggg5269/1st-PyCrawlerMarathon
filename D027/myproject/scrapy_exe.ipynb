{
 "cells": [
  {
   "cell_type": "code",
   "execution_count": 1,
   "metadata": {},
   "outputs": [
    {
     "name": "stderr",
     "output_type": "stream",
     "text": [
      "2020-01-06 16:15:56 [scrapy.utils.log] INFO: Scrapy 1.8.0 started (bot: myproject)\n",
      "2020-01-06 16:15:56 [scrapy.utils.log] INFO: Versions: lxml 4.4.2.0, libxml2 2.9.9, cssselect 1.1.0, parsel 1.5.2, w3lib 1.21.0, Twisted 19.10.0, Python 3.7.5 (default, Oct 31 2019, 15:18:51) [MSC v.1916 64 bit (AMD64)], pyOpenSSL 19.1.0 (OpenSSL 1.1.1d  10 Sep 2019), cryptography 2.8, Platform Windows-10-10.0.18362-SP0\n",
      "2020-01-06 16:15:56 [scrapy.crawler] INFO: Overridden settings: {'BOT_NAME': 'myproject', 'NEWSPIDER_MODULE': 'myproject.spiders', 'ROBOTSTXT_OBEY': True, 'SPIDER_MODULES': ['myproject.spiders']}\n",
      "2020-01-06 16:15:56 [scrapy.extensions.telnet] INFO: Telnet Password: b3270e3cb21f0017\n",
      "2020-01-06 16:15:56 [scrapy.middleware] INFO: Enabled extensions:\n",
      "['scrapy.extensions.corestats.CoreStats',\n",
      " 'scrapy.extensions.telnet.TelnetConsole',\n",
      " 'scrapy.extensions.logstats.LogStats']\n",
      "2020-01-06 16:15:56 [scrapy.middleware] INFO: Enabled downloader middlewares:\n",
      "['scrapy.downloadermiddlewares.robotstxt.RobotsTxtMiddleware',\n",
      " 'scrapy.downloadermiddlewares.httpauth.HttpAuthMiddleware',\n",
      " 'scrapy.downloadermiddlewares.downloadtimeout.DownloadTimeoutMiddleware',\n",
      " 'scrapy.downloadermiddlewares.defaultheaders.DefaultHeadersMiddleware',\n",
      " 'scrapy.downloadermiddlewares.useragent.UserAgentMiddleware',\n",
      " 'scrapy.downloadermiddlewares.retry.RetryMiddleware',\n",
      " 'scrapy.downloadermiddlewares.redirect.MetaRefreshMiddleware',\n",
      " 'scrapy.downloadermiddlewares.httpcompression.HttpCompressionMiddleware',\n",
      " 'scrapy.downloadermiddlewares.redirect.RedirectMiddleware',\n",
      " 'scrapy.downloadermiddlewares.cookies.CookiesMiddleware',\n",
      " 'scrapy.downloadermiddlewares.httpproxy.HttpProxyMiddleware',\n",
      " 'scrapy.downloadermiddlewares.stats.DownloaderStats']\n",
      "2020-01-06 16:15:56 [scrapy.middleware] INFO: Enabled spider middlewares:\n",
      "['scrapy.spidermiddlewares.httperror.HttpErrorMiddleware',\n",
      " 'scrapy.spidermiddlewares.offsite.OffsiteMiddleware',\n",
      " 'scrapy.spidermiddlewares.referer.RefererMiddleware',\n",
      " 'scrapy.spidermiddlewares.urllength.UrlLengthMiddleware',\n",
      " 'scrapy.spidermiddlewares.depth.DepthMiddleware']\n",
      "2020-01-06 16:15:56 [scrapy.middleware] INFO: Enabled item pipelines:\n",
      "['myproject.pipelines.JSONPipeline']\n",
      "2020-01-06 16:15:56 [scrapy.core.engine] INFO: Spider opened\n",
      "2020-01-06 16:15:56 [PTTCrawler] DEBUG: Create temp file for store JSON - C:\\Users\\user\\Documents\\py\\1st-PyCrawlerMarathon\\D027\\myproject\\crawled_data\\.tmp.json.swp\n",
      "2020-01-06 16:15:56 [scrapy.extensions.logstats] INFO: Crawled 0 pages (at 0 pages/min), scraped 0 items (at 0 items/min)\n",
      "2020-01-06 16:15:56 [scrapy.extensions.telnet] INFO: Telnet console listening on 127.0.0.1:6023\n"
     ]
    },
    {
     "data": {
      "text/plain": [
       "<Deferred at 0x2160f9a0988>"
      ]
     },
     "execution_count": 1,
     "metadata": {},
     "output_type": "execute_result"
    },
    {
     "name": "stderr",
     "output_type": "stream",
     "text": [
      "2020-01-06 16:15:56 [scrapy.core.engine] DEBUG: Crawled (404) <GET https://www.ptt.cc/robots.txt> (referer: None)\n",
      "2020-01-06 16:15:56 [scrapy.core.engine] DEBUG: Crawled (200) <GET https://www.ptt.cc/bbs/Gossiping/M.1557928779.A.0C1.html> (referer: None)\n",
      "2020-01-06 16:15:57 [py.warnings] WARNING: C:\\Users\\user\\Documents\\py\\1st-PyCrawlerMarathon\\D027\\myproject\\myproject\\spiders\\PTTCrawler.py:28: UserWarning: No parser was explicitly specified, so I'm using the best available HTML parser for this system (\"lxml\"). This usually isn't a problem, but if you run this code on another system, or in a different virtual environment, it may use a different parser and behave differently.\n",
      "\n",
      "The code that caused this warning is on line 28 of the file C:\\Users\\user\\Documents\\py\\1st-PyCrawlerMarathon\\D027\\myproject\\myproject\\spiders\\PTTCrawler.py. To get rid of this warning, pass the additional argument 'features=\"lxml\"' to the BeautifulSoup constructor.\n",
      "\n",
      "  soup = BeautifulSoup(response.text)\n",
      "\n",
      "2020-01-06 16:15:57 [scrapy.core.scraper] DEBUG: Scraped from <200 https://www.ptt.cc/bbs/Gossiping/M.1557928779.A.0C1.html>\n",
      "{'url': 'https://www.ptt.cc/bbs/Gossiping/M.1557928779.A.0C1.html', 'article_id': 'M.1557928779.A.0C1', 'article_author': 'hahaccu (靠臉吃飯的小魯)', 'article_title': '[問卦] 請家人吃飯好店推薦', 'article_date': 'Wed May 15 21:59:37 2019', 'article_content': '大家好，台嘎後，打給後\\n\\n本肥請家人吃飯\\n\\n每次只能想到欣葉，馬辣等吃到飽沒新意的店\\n\\n有沒有厲害有特色的店可以推薦\\n\\n謝謝\\n\\n https://www.ptt.cc/bbs/Gossiping/M.1557928779.A.0C1.html 對，北部 味道不是都一樣ㄇ (筆記)', 'ip': '111.71.55.130', 'message_count': {'all': 12, 'count': 0, 'push': 2, 'boo': 2, 'neutral': 8}, 'messages': [{'push_tag': '→', 'push_userid': 'uuyouru', 'push_content': '住哪', 'push_ipdatetime': '05/15 21:59'}, {'push_tag': '噓', 'push_userid': 'DsLove710', 'push_content': '麥當勞', 'push_ipdatetime': '05/15 21:59'}, {'push_tag': '→', 'push_userid': 'uuyouru', 'push_content': '台北ㄇ', 'push_ipdatetime': '05/15 22:00'}, {'push_tag': '→', 'push_userid': 'hawaii987', 'push_content': '你家巷口', 'push_ipdatetime': '05/15 22:00'}, {'push_tag': '噓', 'push_userid': 'Doub1eK', 'push_content': '我家巷口', 'push_ipdatetime': '05/15 22:00'}, {'push_tag': '推', 'push_userid': 'pipi8696044', 'push_content': '台科大自助餐', 'push_ipdatetime': '05/15 22:00'}, {'push_tag': '→', 'push_userid': 'tyrande', 'push_content': 'M記快餐 K記快餐', 'push_ipdatetime': '05/15 22:00'}, {'push_tag': '→', 'push_userid': 'DongWooNeKo', 'push_content': '不知道', 'push_ipdatetime': '05/15 22:00'}, {'push_tag': '→', 'push_userid': 'JEWH', 'push_content': '女權', 'push_ipdatetime': '05/15 22:00'}, {'push_tag': '→', 'push_userid': 'guhong', 'push_content': '中壢家樂福一樓的三商巧福，好吃到舌頭掉下來', 'push_ipdatetime': '05/15 22:01'}, {'push_tag': '→', 'push_userid': 'alex00089', 'push_content': '墾丁嗎？', 'push_ipdatetime': '05/15 22:04'}, {'push_tag': '推', 'push_userid': 'boboking2', 'push_content': '新馬辣', 'push_ipdatetime': '05/15 22:05'}]}\n",
      "2020-01-06 16:15:57 [scrapy.core.engine] INFO: Closing spider (finished)\n",
      "2020-01-06 16:15:57 [PTTCrawler] DEBUG: Save result at C:\\Users\\user\\Documents\\py\\1st-PyCrawlerMarathon\\D027\\myproject\\crawled_data\\20200106T16-15-56-20200106T16-15-57.json\n",
      "2020-01-06 16:15:57 [scrapy.statscollectors] INFO: Dumping Scrapy stats:\n",
      "{'downloader/request_bytes': 537,\n",
      " 'downloader/request_count': 2,\n",
      " 'downloader/request_method_count/GET': 2,\n",
      " 'downloader/response_bytes': 3321,\n",
      " 'downloader/response_count': 2,\n",
      " 'downloader/response_status_count/200': 1,\n",
      " 'downloader/response_status_count/404': 1,\n",
      " 'elapsed_time_seconds': 0.260946,\n",
      " 'finish_reason': 'finished',\n",
      " 'finish_time': datetime.datetime(2020, 1, 6, 8, 15, 57, 59073),\n",
      " 'item_scraped_count': 1,\n",
      " 'log_count/DEBUG': 5,\n",
      " 'log_count/INFO': 10,\n",
      " 'log_count/WARNING': 1,\n",
      " 'response_received_count': 2,\n",
      " 'robotstxt/request_count': 1,\n",
      " 'robotstxt/response_count': 1,\n",
      " 'robotstxt/response_status_count/404': 1,\n",
      " 'scheduler/dequeued': 1,\n",
      " 'scheduler/dequeued/memory': 1,\n",
      " 'scheduler/enqueued': 1,\n",
      " 'scheduler/enqueued/memory': 1,\n",
      " 'start_time': datetime.datetime(2020, 1, 6, 8, 15, 56, 798127)}\n",
      "2020-01-06 16:15:57 [scrapy.core.engine] INFO: Spider closed (finished)\n"
     ]
    }
   ],
   "source": [
    "from scrapy.crawler import CrawlerProcess\n",
    "from scrapy.utils.project import get_project_settings\n",
    "\n",
    "process = CrawlerProcess(get_project_settings())\n",
    "\n",
    "process.crawl('PTTCrawler')\n",
    "process.start()"
   ]
  },
  {
   "cell_type": "code",
   "execution_count": null,
   "metadata": {},
   "outputs": [],
   "source": []
  }
 ],
 "metadata": {
  "kernelspec": {
   "display_name": "Python 3",
   "language": "python",
   "name": "python3"
  },
  "language_info": {
   "codemirror_mode": {
    "name": "ipython",
    "version": 3
   },
   "file_extension": ".py",
   "mimetype": "text/x-python",
   "name": "python",
   "nbconvert_exporter": "python",
   "pygments_lexer": "ipython3",
   "version": "3.7.5"
  }
 },
 "nbformat": 4,
 "nbformat_minor": 4
}
