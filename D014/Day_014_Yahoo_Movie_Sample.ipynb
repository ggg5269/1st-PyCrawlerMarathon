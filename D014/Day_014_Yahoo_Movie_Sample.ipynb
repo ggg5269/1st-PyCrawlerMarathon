{
 "cells": [
  {
   "cell_type": "markdown",
   "metadata": {},
   "source": [
    "# YAHOO電影爬蟲練習\n",
    "## 這個作業主要是練習爬取YAHOO電影的資訊，主要會用到基本的GET method，以及解析伺服器回傳的html，從中擷取我們想要的資料。"
   ]
  },
  {
   "cell_type": "markdown",
   "metadata": {},
   "source": [
    "### 這個範例示範如何爬取上映中的電影資訊。先訪問YAHOO電影首頁：https://movies.yahoo.com.tw ，點選「上映中」的分頁，先確認上映中的電影總共有幾筆，然後逐頁爬取。"
   ]
  },
  {
   "cell_type": "code",
   "execution_count": 1,
   "metadata": {},
   "outputs": [],
   "source": [
    "import requests\n",
    "import re\n",
    "from bs4 import BeautifulSoup"
   ]
  },
  {
   "cell_type": "code",
   "execution_count": 2,
   "metadata": {},
   "outputs": [
    {
     "name": "stdout",
     "output_type": "stream",
     "text": [
      "正在上映中總共:  共37筆，目前顯示1~10筆\n"
     ]
    }
   ],
   "source": [
    "# 先觀察一下目前上映中的電影數量\n",
    "url = 'https://movies.yahoo.com.tw/movie_intheaters.html'\n",
    "resp = requests.get(url)\n",
    "resp.encoding = 'utf-8'\n",
    "\n",
    "soup = BeautifulSoup(resp.text, 'lxml')\n",
    "html = soup.find(\"div\", attrs={'class':'release_box'})  # 尋找正在上映中的全部電影筆數，其所在的tag\n",
    "print(\"正在上映中總共: \", html.p.string)"
   ]
  },
  {
   "cell_type": "markdown",
   "metadata": {},
   "source": [
    "### 爬取所有上映中的電影資料：電影名稱、期待度、滿意度、簡介等等。"
   ]
  },
  {
   "cell_type": "code",
   "execution_count": 3,
   "metadata": {},
   "outputs": [
    {
     "name": "stdout",
     "output_type": "stream",
     "text": [
      "----------------------------------------------------------------------\n",
      "電影名稱： \n",
      "                  去年聖誕節\n",
      "期待度： 80%\n"
     ]
    },
    {
     "ename": "AttributeError",
     "evalue": "'NoneType' object has no attribute 'span'",
     "output_type": "error",
     "traceback": [
      "\u001b[38;5;145mFile C:\\Users\\user\\Anaconda3\\lib\\site-packages\\IPython\\core\\\u001b[0m\u001b[1;38;5;231minteractiveshell.py\u001b[0m\u001b[38;5;145m, line 3326, in run_code\n\u001b[0m\u001b[1;38;5;59m    3288  \u001b[38;5;188m\u001b[0m\u001b[1;38;5;188masync\u001b[0m\u001b[38;5;188m \u001b[0m\u001b[1;38;5;188mdef\u001b[0m\u001b[38;5;188m \u001b[0m\u001b[38;5;188mrun_code\u001b[0m\u001b[1;38;5;188m(\u001b[0m\u001b[38;5;184mself\u001b[0m\u001b[1;38;5;188m,\u001b[0m\u001b[38;5;188m \u001b[0m\u001b[1;38;5;26mcode_obj\u001b[0m\u001b[1;38;5;188m,\u001b[0m\u001b[38;5;188m \u001b[0m\u001b[38;5;42mresult\u001b[0m\u001b[1;38;5;188m=\u001b[0m\u001b[1;38;5;188mNone\u001b[0m\u001b[1;38;5;188m,\u001b[0m\u001b[38;5;188m \u001b[0m\u001b[1;38;5;188m*\u001b[0m\u001b[1;38;5;188m,\u001b[0m\u001b[38;5;188m \u001b[0m\u001b[38;5;41masync_\u001b[0m\u001b[1;38;5;188m=\u001b[0m\u001b[1;38;5;188mFalse\u001b[0m\u001b[1;38;5;188m)\u001b[0m\u001b[1;38;5;188m:\u001b[0m\u001b[38;5;188m\n\u001b[0m\u001b[0m\u001b[38;5;102m (...)\n\u001b[0m\u001b[1;38;5;59m    3322  \u001b[38;5;188m                \u001b[0m\u001b[38;5;188mexec\u001b[0m\u001b[1;38;5;188m(\u001b[0m\u001b[38;5;188mcode\u001b[0m\u001b[1;38;5;188m,\u001b[0m\u001b[38;5;188m \u001b[0m\u001b[1;38;5;188m{\u001b[0m\u001b[38;5;188m'last_expr'\u001b[0m\u001b[1;38;5;188m:\u001b[0m\u001b[38;5;188m \u001b[0m\u001b[38;5;188mlast_expr\u001b[0m\u001b[1;38;5;188m}\u001b[0m\u001b[1;38;5;188m)\u001b[0m\u001b[38;5;188m\n\u001b[0m\u001b[0m\u001b[1;38;5;59m    3323  \u001b[38;5;188m            \u001b[0m\u001b[1;38;5;188melif\u001b[0m\u001b[38;5;188m \u001b[0m\u001b[38;5;41masync_\u001b[0m\u001b[38;5;188m \u001b[0m\u001b[1;38;5;188m:\u001b[0m\u001b[38;5;188m\n\u001b[0m\u001b[0m\u001b[1;38;5;59m    3324  \u001b[38;5;188m                \u001b[0m\u001b[1;38;5;188mawait\u001b[0m\u001b[38;5;188m \u001b[0m\u001b[38;5;188meval\u001b[0m\u001b[1;38;5;188m(\u001b[0m\u001b[1;38;5;26mcode_obj\u001b[0m\u001b[1;38;5;188m,\u001b[0m\u001b[38;5;188m \u001b[0m\u001b[1;38;5;40mself.user_global_ns\u001b[0m\u001b[1;38;5;188m,\u001b[0m\u001b[38;5;188m \u001b[0m\u001b[1;38;5;40mself.user_ns\u001b[0m\u001b[1;38;5;188m)\u001b[0m\u001b[38;5;188m\n\u001b[0m\u001b[0m\u001b[1;38;5;59m    3325  \u001b[38;5;188m            \u001b[0m\u001b[1;38;5;188melse\u001b[0m\u001b[1;38;5;188m:\u001b[0m\u001b[38;5;188m\n\u001b[0m\u001b[0m\u001b[1;38;5;188m--> 3326  \u001b[38;5;188m                \u001b[0m\u001b[38;5;188mexec\u001b[0m\u001b[1;38;5;188m(\u001b[0m\u001b[1;38;5;26mcode_obj\u001b[0m\u001b[1;38;5;188m,\u001b[0m\u001b[38;5;188m \u001b[0m\u001b[1;38;5;40mself.user_global_ns\u001b[0m\u001b[1;38;5;188m,\u001b[0m\u001b[38;5;188m \u001b[0m\u001b[1;38;5;40mself.user_ns\u001b[0m\u001b[1;38;5;188m)\u001b[0m\u001b[38;5;188m\n\u001b[0m\u001b[0m\u001b[1;38;5;59m    3327  \u001b[38;5;188m        \u001b[0m\u001b[1;38;5;188mfinally\u001b[0m\u001b[1;38;5;188m:\u001b[0m\u001b[38;5;188m\n\u001b[0m\u001b[0m\u001b[38;5;102m    ..................................................\u001b[0m\n\u001b[38;5;184m     self = <ipykernel.zmqshell.ZMQInteractiveShell object at 0x0000020B\n             117540C8>\n\u001b[0m\u001b[1;38;5;26m     code_obj = <code object <module> at 0x0000020B12E6A540, file \"<ipython-\n                 input-3-2eb967e980b8>\", line 4>\n\u001b[0m\u001b[38;5;42m     result = <ExecutionResult object at 20b19f04fc8, execution_count=3 er\n               ror_before_exec=None error_in_exec='NoneType' object has no \n               attribute 'span' info=<ExecutionInfo object at 20b19e34608, \n               raw_cell=\"# 接下來要爬取每一頁的電影介紹\n              # 先點選網頁最底部的下一頁，觀察其網址變化。然後我們把頁數當作變..\" store_history=True sile\n               nt=False shell_futures=True> result=None>\n\u001b[0m\u001b[38;5;41m     async_ = False\n\u001b[0m\u001b[1;38;5;40m     self.user_global_ns = {'__name__': '__main__',\n                            '__doc__': 'Automatically created module for IPython intera\n                            ctive environment',\n                            '__package__': None,\n                            '__loader__': None,\n                            '__spec__': None,\n                            '__builtin__': <module 'builtins' (built-in)>,\n                            '__builtins__': <module 'builtins' (built-in)>,\n                            '_ih': ['', 'import requests\\nimport re\\nfrom bs4 import Be\n                            autifulSoup', '# 先觀察一下目前上映中的電影數量\\nurl = \\'https://movies.yah\n                            oo.com.tw/movie_intheaters.html\\'\\nresp = requests.get(url)\\\n                            nresp.encoding = \\'utf-8\\'\\n\\nsoup = BeautifulSoup(resp....\n\u001b[0m\u001b[1;38;5;40m     self.user_ns = {'__name__': '__main__',\n                     '__doc__': 'Automatically created module for IPython intera\n                     ctive environment',\n                     '__package__': None,\n                     '__loader__': None,\n                     '__spec__': None,\n                     '__builtin__': <module 'builtins' (built-in)>,\n                     '__builtins__': <module 'builtins' (built-in)>,\n                     '_ih': ['', 'import requests\\nimport re\\nfrom bs4 import Be\n                     autifulSoup', '# 先觀察一下目前上映中的電影數量\\nurl = \\'https://movies.yah\n                     oo.com.tw/movie_intheaters.html\\'\\nresp = requests.get(url)\\\n                     nresp.encoding = \\'utf-8\\'\\n\\nsoup = BeautifulSoup(resp....\n\u001b[0m\u001b[38;5;102m    ..................................................\u001b[0m\n\n\u001b[38;5;145mFile \u001b[0m\u001b[1;38;5;231m<ipython-input-3-2eb967e980b8>\u001b[0m\u001b[38;5;145m, line 28, in <module>\n\u001b[0m\u001b[1;38;5;59m    24   \u001b[38;5;188m\u001b[0m\u001b[38;5;188mprint\u001b[0m\u001b[1;38;5;188m(\u001b[0m\u001b[38;5;188m\"期待度：\"\u001b[0m\u001b[1;38;5;188m,\u001b[0m\u001b[38;5;188m \u001b[0m\u001b[38;5;20mexpectation.span.string\u001b[0m\u001b[1;38;5;188m)\u001b[0m\u001b[38;5;188m\n\u001b[0m\u001b[0m\u001b[1;38;5;59m    25   \u001b[38;5;188m\n\u001b[0m\u001b[0m\u001b[1;38;5;59m    26   \u001b[38;5;188m\u001b[0m\u001b[38;5;59m# 滿意度\u001b[0m\u001b[38;5;188m\n\u001b[0m\u001b[0m\u001b[1;38;5;59m    27   \u001b[38;5;188m\u001b[0m\u001b[38;5;44msatisfaction\u001b[0m\u001b[38;5;188m \u001b[0m\u001b[1;38;5;188m=\u001b[0m\u001b[38;5;188m \u001b[0m\u001b[38;5;112mlevel_box.find\u001b[0m\u001b[1;38;5;188m(\u001b[0m\u001b[38;5;188m\"div\"\u001b[0m\u001b[1;38;5;188m,\u001b[0m\u001b[38;5;188m \u001b[0m\u001b[38;5;188mattrs\u001b[0m\u001b[1;38;5;188m=\u001b[0m\u001b[1;38;5;188m{\u001b[0m\u001b[38;5;188m\"class\"\u001b[0m\u001b[1;38;5;188m:\u001b[0m\u001b[38;5;188m\"leveltext starwithnum\"\u001b[0m\u001b[1;38;5;188m}\u001b[0m\u001b[1;38;5;188m)\u001b[0m\u001b[38;5;188m\n\u001b[0m\u001b[0m\u001b[1;38;5;188m--> 28   \u001b[38;5;188m\u001b[0m\u001b[38;5;188mprint\u001b[0m\u001b[1;38;5;188m(\u001b[0m\u001b[38;5;188m\"滿意度：\"\u001b[0m\u001b[1;38;5;188m,\u001b[0m\u001b[38;5;188m \u001b[0m\u001b[1;38;5;172msatisfaction.span\u001b[0m\u001b[1;38;5;188m[\u001b[0m\u001b[38;5;188m\"data-num\"\u001b[0m\u001b[1;38;5;188m]\u001b[0m\u001b[1;38;5;188m)\u001b[0m\u001b[38;5;188m  \u001b[0m\u001b[38;5;59m# 滿意度可以從\"data-num\"這個屬性擷取\u001b[0m\u001b[38;5;188m\n\u001b[0m\u001b[0m\u001b[1;38;5;59m    29   \u001b[38;5;188m\n\u001b[0m\u001b[0m\u001b[38;5;102m    ..................................................\u001b[0m\n\u001b[38;5;20m     expectation.span.string = '80%'\n\u001b[0m\u001b[38;5;44m     satisfaction = None\n\u001b[0m\u001b[38;5;112m     level_box.find = <method 'Tag.find' of <dl class=\"levelbox\">\n                      <dt>\n                      <div class=\"level_name\">期待度</div>\n                      <div class=\"leveltext\">\n                      <span>80%</span>\n                                          網友想看\n                                        </div>\n                      </dt>\n                      <dd>\n                      <div class=\"level_name\">滿意度</div>\n                      <div class=\"leveltext\">\n                      <span class=\"count\" data-num=\"3.6\" data-run=\"0\">0</span>\n                                            綜合評分\n                                          </div>\n                      </dd>\n                      </dl> element.py:1276>\n\u001b[0m\u001b[1;38;5;172m     satisfaction.span = # AttributeError\n          satisfaction = None\n\u001b[0m\u001b[38;5;102m    ..................................................\u001b[0m\n\n---- (full traceback above) ----\n\u001b[38;5;145mFile C:\\Users\\user\\Anaconda3\\lib\\site-packages\\IPython\\core\\\u001b[0m\u001b[1;38;5;231minteractiveshell.py\u001b[0m\u001b[38;5;145m, line 3326, in run_code\n\u001b[0m    \u001b[38;5;188m\u001b[0m\u001b[38;5;188mexec\u001b[0m\u001b[1;38;5;188m(\u001b[0m\u001b[38;5;188mcode_obj\u001b[0m\u001b[1;38;5;188m,\u001b[0m\u001b[38;5;188m \u001b[0m\u001b[38;5;188mself.user_global_ns\u001b[0m\u001b[1;38;5;188m,\u001b[0m\u001b[38;5;188m \u001b[0m\u001b[38;5;188mself.user_ns\u001b[0m\u001b[1;38;5;188m)\u001b[0m\u001b[38;5;188m\n\u001b[0m\u001b[38;5;145mFile \u001b[0m\u001b[1;38;5;231m<ipython-input-3-2eb967e980b8>\u001b[0m\u001b[38;5;145m, line 28, in <module>\n\u001b[0m    \u001b[38;5;188m\u001b[0m\u001b[38;5;188mprint\u001b[0m\u001b[1;38;5;188m(\u001b[0m\u001b[38;5;188m\"滿意度：\"\u001b[0m\u001b[1;38;5;188m,\u001b[0m\u001b[38;5;188m \u001b[0m\u001b[38;5;188msatisfaction.span\u001b[0m\u001b[1;38;5;188m[\u001b[0m\u001b[38;5;188m\"data-num\"\u001b[0m\u001b[1;38;5;188m]\u001b[0m\u001b[1;38;5;188m)\u001b[0m\u001b[38;5;188m  \u001b[0m\u001b[38;5;59m# 滿意度可以從\"data-num\"這個屬性擷取\u001b[0m\u001b[38;5;188m\n\u001b[0m\n\u001b[1;38;5;160mAttributeError: \u001b[0m\u001b[1;38;5;160m'NoneType' object has no attribute 'span'\u001b[0m"
     ]
    }
   ],
   "source": [
    "# 接下來要爬取每一頁的電影介紹\n",
    "# 先點選網頁最底部的下一頁，觀察其網址變化。然後我們把頁數當作變數傳入，用迴圈爬取。\n",
    "max_page = 5\n",
    "for page_number in range(1, max_page+1, 1):\n",
    "    url = 'https://movies.yahoo.com.tw/movie_intheaters.html'\n",
    "    payload = {'page':str(page_number)}\n",
    "    resp = requests.get(url, params=payload)\n",
    "    resp.encoding = 'utf-8'\n",
    "    soup = BeautifulSoup(resp.text, 'lxml')\n",
    "\n",
    "    # 把電影介紹擷取出來\n",
    "    movie_list = soup.find(\"ul\", attrs={\"class\":\"release_list\"}).find_all(\"li\")\n",
    "    for p in movie_list:\n",
    "        print(\"----------------------------------------------------------------------\")\n",
    "        # 電影名稱\n",
    "        movie_name = p.find(\"div\", attrs={\"class\":\"release_movie_name\"})\n",
    "        print(\"電影名稱：\", movie_name.a.string)\n",
    "        \n",
    "        # 定位電影評價資訊欄位\n",
    "        level_box = movie_name.find(\"dl\", attrs={\"class\":\"levelbox\"})\n",
    "        \n",
    "        # 期待度\n",
    "        expectation = level_box.find(\"div\", attrs={\"class\":\"leveltext\"})\n",
    "        print(\"期待度：\", expectation.span.string)\n",
    "        \n",
    "        # 滿意度\n",
    "        satisfaction = level_box.find(\"div\", attrs={\"class\":\"leveltext starwithnum\"})\n",
    "        print(\"滿意度：\", satisfaction.span[\"data-num\"])  # 滿意度可以從\"data-num\"這個屬性擷取\n",
    "        \n",
    "        # 簡介\n",
    "        movie_info = p.find(\"div\", attrs={\"class\":\"release_text\"})\n",
    "        print(movie_info.span.string)\n"
   ]
  },
  {
   "cell_type": "code",
   "execution_count": null,
   "metadata": {},
   "outputs": [],
   "source": []
  }
 ],
 "metadata": {
  "kernelspec": {
   "display_name": "Python 3",
   "language": "python",
   "name": "python3"
  },
  "language_info": {
   "codemirror_mode": {
    "name": "ipython",
    "version": 3
   },
   "file_extension": ".py",
   "mimetype": "text/x-python",
   "name": "python",
   "nbconvert_exporter": "python",
   "pygments_lexer": "ipython3",
   "version": "3.7.5"
  }
 },
 "nbformat": 4,
 "nbformat_minor": 4
}
