{
 "cells": [
  {
   "cell_type": "markdown",
   "metadata": {},
   "source": [
    "# Ettoday 網路爬蟲實作練習\n",
    "\n",
    "\n",
    "* 能夠利用 Request + BeatifulSour 撰寫爬蟲，並存放到合適的資料結構\n"
   ]
  },
  {
   "cell_type": "markdown",
   "metadata": {},
   "source": [
    "## 作業目標\n",
    "\n",
    "根據範例 ，完成以下問題：\n",
    "\n",
    "* ① 取出今天所有的發文\n",
    "* ② 如果想要依照類別分類，怎麼儲存會比較好？\n",
    "* ③ 哪一個類別的文章最多\n",
    "\n",
    "\n"
   ]
  },
  {
   "cell_type": "markdown",
   "metadata": {},
   "source": [
    "### ① 取出今天所有的發文"
   ]
  },
  {
   "cell_type": "code",
   "execution_count": 29,
   "metadata": {},
   "outputs": [],
   "source": [
    "import requests\n",
    "from bs4 import BeautifulSoup\n",
    "import re\n",
    "from datetime import datetime\n",
    "\n",
    "url = 'https://www.ettoday.net/news/news-list.htm'\n",
    "r = requests.get(url)\n",
    "\n",
    "soup = BeautifulSoup(r.text, \"html5lib\")"
   ]
  },
  {
   "cell_type": "code",
   "execution_count": 30,
   "metadata": {},
   "outputs": [
    {
     "data": {
      "text/plain": [
       "'2019/12/12'"
      ]
     },
     "execution_count": 30,
     "metadata": {},
     "output_type": "execute_result"
    }
   ],
   "source": [
    "today = datetime.now().strftime(\"%Y/%m/%d\")\n",
    "today"
   ]
  },
  {
   "cell_type": "code",
   "execution_count": 31,
   "metadata": {},
   "outputs": [],
   "source": [
    "regex = '\\d{4}(\\/\\d{2}){2}'\n",
    "pattern = re.compile(regex)"
   ]
  },
  {
   "cell_type": "markdown",
   "metadata": {},
   "source": [
    "`match`: 從頭找  \n",
    "`search`: 遍歷"
   ]
  },
  {
   "cell_type": "code",
   "execution_count": 41,
   "metadata": {},
   "outputs": [],
   "source": [
    "re.match(pattern, '0002019/12/13')"
   ]
  },
  {
   "cell_type": "code",
   "execution_count": 42,
   "metadata": {},
   "outputs": [
    {
     "data": {
      "text/plain": [
       "<re.Match object; span=(3, 13), match='2019/12/13'>"
      ]
     },
     "execution_count": 42,
     "metadata": {},
     "output_type": "execute_result"
    }
   ],
   "source": [
    "re.search(pattern, '0002019/12/13')"
   ]
  },
  {
   "cell_type": "code",
   "execution_count": 69,
   "metadata": {},
   "outputs": [],
   "source": [
    "ls = []\n",
    "for d in soup.find(class_=\"part_list_2\").find_all('h3'):\n",
    "    date = d.find(class_=\"date\").text\n",
    "    if re.search(pattern, date)[0] != today:\n",
    "        continue\n",
    "    tag = d.find(class_=\"tag\").text\n",
    "    title = d.find_all('a')[-1].text\n",
    "    ls.append([date, tag, title])"
   ]
  },
  {
   "cell_type": "markdown",
   "metadata": {},
   "source": [
    "### ② 如果想要依照類別分類，怎麼儲存會比較好？"
   ]
  },
  {
   "cell_type": "code",
   "execution_count": 70,
   "metadata": {},
   "outputs": [],
   "source": [
    "import pandas as pd"
   ]
  },
  {
   "cell_type": "code",
   "execution_count": 71,
   "metadata": {},
   "outputs": [
    {
     "data": {
      "text/html": [
       "<div>\n",
       "<style scoped>\n",
       "    .dataframe tbody tr th:only-of-type {\n",
       "        vertical-align: middle;\n",
       "    }\n",
       "\n",
       "    .dataframe tbody tr th {\n",
       "        vertical-align: top;\n",
       "    }\n",
       "\n",
       "    .dataframe thead th {\n",
       "        text-align: right;\n",
       "    }\n",
       "</style>\n",
       "<table border=\"1\" class=\"dataframe\">\n",
       "  <thead>\n",
       "    <tr style=\"text-align: right;\">\n",
       "      <th></th>\n",
       "      <th>date</th>\n",
       "      <th>tag</th>\n",
       "      <th>title</th>\n",
       "    </tr>\n",
       "  </thead>\n",
       "  <tbody>\n",
       "    <tr>\n",
       "      <th>0</th>\n",
       "      <td>2019/12/12 00:57</td>\n",
       "      <td>時尚</td>\n",
       "      <td>12星座奴性指數排行榜！最會被「感情綁架」的居然是處女座</td>\n",
       "    </tr>\n",
       "    <tr>\n",
       "      <th>1</th>\n",
       "      <td>2019/12/12 00:50</td>\n",
       "      <td>生活</td>\n",
       "      <td>車體180度翻覆！老公踹開玻璃「2兒女」安全　她揭「背向乘坐」重要性</td>\n",
       "    </tr>\n",
       "    <tr>\n",
       "      <th>2</th>\n",
       "      <td>2019/12/12 00:48</td>\n",
       "      <td>社會</td>\n",
       "      <td>新竹開大選地下賭盤「韓國瑜勝！2.5倍」被抓！組頭對話曝光　賭客看呆</td>\n",
       "    </tr>\n",
       "    <tr>\n",
       "      <th>3</th>\n",
       "      <td>2019/12/12 00:44</td>\n",
       "      <td>財經</td>\n",
       "      <td>李紀珠當選全球玉山科技協會理事長</td>\n",
       "    </tr>\n",
       "    <tr>\n",
       "      <th>4</th>\n",
       "      <td>2019/12/12 00:42</td>\n",
       "      <td>影劇</td>\n",
       "      <td>阿滴英文「違反勞基法2規定」　遭勞動局開罰四萬元！</td>\n",
       "    </tr>\n",
       "    <tr>\n",
       "      <th>5</th>\n",
       "      <td>2019/12/12 00:29</td>\n",
       "      <td>財經</td>\n",
       "      <td>台灣擠下韓國成為今年最大半導體設備市場</td>\n",
       "    </tr>\n",
       "    <tr>\n",
       "      <th>6</th>\n",
       "      <td>2019/12/12 00:27</td>\n",
       "      <td>國際</td>\n",
       "      <td>快訊／環太平洋一直震！北海道深夜地震　最大震度5弱</td>\n",
       "    </tr>\n",
       "    <tr>\n",
       "      <th>7</th>\n",
       "      <td>2019/12/12 00:19</td>\n",
       "      <td>政治</td>\n",
       "      <td>童仲彥創新政黨「金色力量」　超狂喊話：推動「合法性專區」不是說說而已</td>\n",
       "    </tr>\n",
       "    <tr>\n",
       "      <th>8</th>\n",
       "      <td>2019/12/12 00:15</td>\n",
       "      <td>體育</td>\n",
       "      <td>羽球年終賽／5台將小組第二戰　戴資穎今午後對決依瑟儂拚首勝</td>\n",
       "    </tr>\n",
       "    <tr>\n",
       "      <th>9</th>\n",
       "      <td>2019/12/12 00:09</td>\n",
       "      <td>大陸</td>\n",
       "      <td>害怕針頭！他體檢抽血嚇到掩面哭喊「啊～～」　網友笑瘋：不當演員可惜了</td>\n",
       "    </tr>\n",
       "    <tr>\n",
       "      <th>10</th>\n",
       "      <td>2019/12/12 00:07</td>\n",
       "      <td>政治</td>\n",
       "      <td>蔡英文競辦幕僚：韓國瑜拖時間讓辯論泡湯　把責任賴小英頭上</td>\n",
       "    </tr>\n",
       "    <tr>\n",
       "      <th>11</th>\n",
       "      <td>2019/12/12 00:06</td>\n",
       "      <td>影劇</td>\n",
       "      <td>昆凌深夜放閃周杰倫！　「我還是想謝謝你」網淪陷：甜到我頭殼疼</td>\n",
       "    </tr>\n",
       "    <tr>\n",
       "      <th>12</th>\n",
       "      <td>2019/12/12 00:05</td>\n",
       "      <td>社會</td>\n",
       "      <td>快訊／空軍士兵疑寢室燒床墊　台北防空飛彈營驚傳火警</td>\n",
       "    </tr>\n",
       "    <tr>\n",
       "      <th>13</th>\n",
       "      <td>2019/12/12 00:00</td>\n",
       "      <td>政治</td>\n",
       "      <td>批蔡英文上班跑選舉　孫大千轟：中華民國還有總統？</td>\n",
       "    </tr>\n",
       "  </tbody>\n",
       "</table>\n",
       "</div>"
      ],
      "text/plain": [
       "                date tag                               title\n",
       "0   2019/12/12 00:57  時尚        12星座奴性指數排行榜！最會被「感情綁架」的居然是處女座\n",
       "1   2019/12/12 00:50  生活  車體180度翻覆！老公踹開玻璃「2兒女」安全　她揭「背向乘坐」重要性\n",
       "2   2019/12/12 00:48  社會  新竹開大選地下賭盤「韓國瑜勝！2.5倍」被抓！組頭對話曝光　賭客看呆\n",
       "3   2019/12/12 00:44  財經                    李紀珠當選全球玉山科技協會理事長\n",
       "4   2019/12/12 00:42  影劇           阿滴英文「違反勞基法2規定」　遭勞動局開罰四萬元！\n",
       "5   2019/12/12 00:29  財經                 台灣擠下韓國成為今年最大半導體設備市場\n",
       "6   2019/12/12 00:27  國際           快訊／環太平洋一直震！北海道深夜地震　最大震度5弱\n",
       "7   2019/12/12 00:19  政治  童仲彥創新政黨「金色力量」　超狂喊話：推動「合法性專區」不是說說而已\n",
       "8   2019/12/12 00:15  體育       羽球年終賽／5台將小組第二戰　戴資穎今午後對決依瑟儂拚首勝\n",
       "9   2019/12/12 00:09  大陸  害怕針頭！他體檢抽血嚇到掩面哭喊「啊～～」　網友笑瘋：不當演員可惜了\n",
       "10  2019/12/12 00:07  政治        蔡英文競辦幕僚：韓國瑜拖時間讓辯論泡湯　把責任賴小英頭上\n",
       "11  2019/12/12 00:06  影劇      昆凌深夜放閃周杰倫！　「我還是想謝謝你」網淪陷：甜到我頭殼疼\n",
       "12  2019/12/12 00:05  社會           快訊／空軍士兵疑寢室燒床墊　台北防空飛彈營驚傳火警\n",
       "13  2019/12/12 00:00  政治            批蔡英文上班跑選舉　孫大千轟：中華民國還有總統？"
      ]
     },
     "execution_count": 71,
     "metadata": {},
     "output_type": "execute_result"
    }
   ],
   "source": [
    "df = pd.DataFrame(ls, columns = ['date', 'tag', 'title'])\n",
    "df"
   ]
  },
  {
   "cell_type": "markdown",
   "metadata": {},
   "source": [
    "### ③ 哪一個類別的文章最多"
   ]
  },
  {
   "cell_type": "code",
   "execution_count": 72,
   "metadata": {},
   "outputs": [
    {
     "data": {
      "text/html": [
       "<div>\n",
       "<style scoped>\n",
       "    .dataframe tbody tr th:only-of-type {\n",
       "        vertical-align: middle;\n",
       "    }\n",
       "\n",
       "    .dataframe tbody tr th {\n",
       "        vertical-align: top;\n",
       "    }\n",
       "\n",
       "    .dataframe thead th {\n",
       "        text-align: right;\n",
       "    }\n",
       "</style>\n",
       "<table border=\"1\" class=\"dataframe\">\n",
       "  <thead>\n",
       "    <tr style=\"text-align: right;\">\n",
       "      <th></th>\n",
       "      <th>tag</th>\n",
       "    </tr>\n",
       "    <tr>\n",
       "      <th>tag</th>\n",
       "      <th></th>\n",
       "    </tr>\n",
       "  </thead>\n",
       "  <tbody>\n",
       "    <tr>\n",
       "      <th>政治</th>\n",
       "      <td>3</td>\n",
       "    </tr>\n",
       "    <tr>\n",
       "      <th>財經</th>\n",
       "      <td>2</td>\n",
       "    </tr>\n",
       "    <tr>\n",
       "      <th>社會</th>\n",
       "      <td>2</td>\n",
       "    </tr>\n",
       "    <tr>\n",
       "      <th>影劇</th>\n",
       "      <td>2</td>\n",
       "    </tr>\n",
       "    <tr>\n",
       "      <th>體育</th>\n",
       "      <td>1</td>\n",
       "    </tr>\n",
       "    <tr>\n",
       "      <th>生活</th>\n",
       "      <td>1</td>\n",
       "    </tr>\n",
       "    <tr>\n",
       "      <th>時尚</th>\n",
       "      <td>1</td>\n",
       "    </tr>\n",
       "    <tr>\n",
       "      <th>大陸</th>\n",
       "      <td>1</td>\n",
       "    </tr>\n",
       "    <tr>\n",
       "      <th>國際</th>\n",
       "      <td>1</td>\n",
       "    </tr>\n",
       "  </tbody>\n",
       "</table>\n",
       "</div>"
      ],
      "text/plain": [
       "     tag\n",
       "tag     \n",
       "政治     3\n",
       "財經     2\n",
       "社會     2\n",
       "影劇     2\n",
       "體育     1\n",
       "生活     1\n",
       "時尚     1\n",
       "大陸     1\n",
       "國際     1"
      ]
     },
     "execution_count": 72,
     "metadata": {},
     "output_type": "execute_result"
    }
   ],
   "source": [
    "count = df.groupby('tag')['tag'].count()\n",
    "pd.DataFrame(count.sort_values(ascending = False))"
   ]
  },
  {
   "cell_type": "code",
   "execution_count": null,
   "metadata": {},
   "outputs": [],
   "source": []
  },
  {
   "cell_type": "code",
   "execution_count": null,
   "metadata": {},
   "outputs": [],
   "source": []
  },
  {
   "cell_type": "code",
   "execution_count": null,
   "metadata": {},
   "outputs": [],
   "source": []
  }
 ],
 "metadata": {
  "kernelspec": {
   "display_name": "Python 3",
   "language": "python",
   "name": "python3"
  },
  "language_info": {
   "codemirror_mode": {
    "name": "ipython",
    "version": 3
   },
   "file_extension": ".py",
   "mimetype": "text/x-python",
   "name": "python",
   "nbconvert_exporter": "python",
   "pygments_lexer": "ipython3",
   "version": "3.7.5"
  }
 },
 "nbformat": 4,
 "nbformat_minor": 4
}
