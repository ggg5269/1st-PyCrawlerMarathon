{
 "cells": [
  {
   "cell_type": "code",
   "execution_count": null,
   "metadata": {},
   "outputs": [],
   "source": [
    "from scrapy.crawler import CrawlerProcess\n",
    "from scrapy.utils.project import get_project_settings\n",
    "\n",
    "def main():\n",
    "    target_urls = [\n",
    "        'https://www.ptt.cc/bbs/Gossiping/M.1559788476.A.074.html',\n",
    "        'https://www.ptt.cc/bbs/Gossiping/M.1557928779.A.0C1.html'\n",
    "    ]\n",
    "    process = CrawlerProcess(get_project_settings())\n",
    "    process.crawl('PTTCrawler', start_urls=target_urls)\n",
    "    process.start()\n",
    "\n",
    "\n",
    "if __name__ == '__main__':\n",
    "    main()"
   ]
  }
 ],
 "metadata": {
  "kernelspec": {
   "display_name": "Python 3",
   "language": "python",
   "name": "python3"
  },
  "language_info": {
   "codemirror_mode": {
    "name": "ipython",
    "version": 3
   },
   "file_extension": ".py",
   "mimetype": "text/x-python",
   "name": "python",
   "nbconvert_exporter": "python",
   "pygments_lexer": "ipython3",
   "version": "3.7.5"
  }
 },
 "nbformat": 4,
 "nbformat_minor": 4
}
