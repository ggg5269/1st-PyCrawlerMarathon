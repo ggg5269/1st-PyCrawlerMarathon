{
 "cells": [
  {
   "cell_type": "markdown",
   "metadata": {},
   "source": [
    "# 其他工具：Grab、PyQuery\n",
    "\n",
    "\n",
    "* 利用 Grab 套件的存取 HTML 資源\n",
    "* 利用 PyQuery 套件的解析 HTML 格式\n"
   ]
  },
  {
   "cell_type": "markdown",
   "metadata": {},
   "source": [
    "## 作業目標\n",
    "\n",
    "將之前用 requests + beatifulsoup 實作的方式，改寫成 grab + pyquery，並且比較有哪些地方不同。\n",
    "\n",
    "\n",
    "\n"
   ]
  },
  {
   "cell_type": "markdown",
   "metadata": {},
   "source": [
    "## requests + BeautifulSoup\n"
   ]
  },
  {
   "cell_type": "code",
   "execution_count": 1,
   "metadata": {},
   "outputs": [],
   "source": [
    "import requests\n",
    "import os\n",
    "\n",
    "from bs4 import BeautifulSoup"
   ]
  },
  {
   "cell_type": "code",
   "execution_count": 2,
   "metadata": {},
   "outputs": [
    {
     "data": {
      "text/html": [
       "<div>\n",
       "<style scoped>\n",
       "    .dataframe tbody tr th:only-of-type {\n",
       "        vertical-align: middle;\n",
       "    }\n",
       "\n",
       "    .dataframe tbody tr th {\n",
       "        vertical-align: top;\n",
       "    }\n",
       "\n",
       "    .dataframe thead th {\n",
       "        text-align: right;\n",
       "    }\n",
       "</style>\n",
       "<table border=\"1\" class=\"dataframe\">\n",
       "  <thead>\n",
       "    <tr style=\"text-align: right;\">\n",
       "      <th></th>\n",
       "      <th>push</th>\n",
       "      <th>title</th>\n",
       "      <th>date</th>\n",
       "      <th>author</th>\n",
       "      <th>href</th>\n",
       "    </tr>\n",
       "  </thead>\n",
       "  <tbody>\n",
       "    <tr>\n",
       "      <th>0</th>\n",
       "      <td>38</td>\n",
       "      <td>[問卦] 什麼時候線上遊戲嘴人起手式是你家死人</td>\n",
       "      <td>12/12</td>\n",
       "      <td>hongou</td>\n",
       "      <td>https://www.ptt.cc/bbs/Gossiping/M.1576085167....</td>\n",
       "    </tr>\n",
       "    <tr>\n",
       "      <th>1</th>\n",
       "      <td>3</td>\n",
       "      <td>[問卦] 老師我想學別的？</td>\n",
       "      <td>12/12</td>\n",
       "      <td>ddd123</td>\n",
       "      <td>https://www.ptt.cc/bbs/Gossiping/M.1576085163....</td>\n",
       "    </tr>\n",
       "    <tr>\n",
       "      <th>2</th>\n",
       "      <td>0</td>\n",
       "      <td>[問卦] 東x跟祥x要吃哪個好啊</td>\n",
       "      <td>12/12</td>\n",
       "      <td>joywilliamjo</td>\n",
       "      <td>https://www.ptt.cc/bbs/Gossiping/M.1576085149....</td>\n",
       "    </tr>\n",
       "    <tr>\n",
       "      <th>3</th>\n",
       "      <td>2</td>\n",
       "      <td>Re: [問卦] 燒肉要怎麼烤才對?</td>\n",
       "      <td>12/12</td>\n",
       "      <td>CenaC</td>\n",
       "      <td>https://www.ptt.cc/bbs/Gossiping/M.1576085113....</td>\n",
       "    </tr>\n",
       "    <tr>\n",
       "      <th>4</th>\n",
       "      <td>1</td>\n",
       "      <td>Re: [新聞] 減輕長輩過馬路壓力 高市試辦「行人庇護</td>\n",
       "      <td>12/12</td>\n",
       "      <td>ap88994433</td>\n",
       "      <td>https://www.ptt.cc/bbs/Gossiping/M.1576084937....</td>\n",
       "    </tr>\n",
       "    <tr>\n",
       "      <th>...</th>\n",
       "      <td>...</td>\n",
       "      <td>...</td>\n",
       "      <td>...</td>\n",
       "      <td>...</td>\n",
       "      <td>...</td>\n",
       "    </tr>\n",
       "    <tr>\n",
       "      <th>335</th>\n",
       "      <td>7</td>\n",
       "      <td>Re: [新聞] 港府前幕僚：台灣可成立境內特區 接納港</td>\n",
       "      <td>12/11</td>\n",
       "      <td>keane9112</td>\n",
       "      <td>https://www.ptt.cc/bbs/Gossiping/M.1576066854....</td>\n",
       "    </tr>\n",
       "    <tr>\n",
       "      <th>336</th>\n",
       "      <td>3</td>\n",
       "      <td>Re: [問卦] 古代人會特別喜歡大奶妹嗎</td>\n",
       "      <td>12/11</td>\n",
       "      <td>demitri</td>\n",
       "      <td>https://www.ptt.cc/bbs/Gossiping/M.1576066848....</td>\n",
       "    </tr>\n",
       "    <tr>\n",
       "      <th>337</th>\n",
       "      <td>X1</td>\n",
       "      <td>Re: [新聞] 港府前幕僚：台灣可成立境內特區 接納港</td>\n",
       "      <td>12/11</td>\n",
       "      <td>X18999</td>\n",
       "      <td>https://www.ptt.cc/bbs/Gossiping/M.1576066765....</td>\n",
       "    </tr>\n",
       "    <tr>\n",
       "      <th>338</th>\n",
       "      <td>8</td>\n",
       "      <td>Re: [新聞] 「你很韓國瑜耶！」成校園新髒話　蔡沁</td>\n",
       "      <td>12/11</td>\n",
       "      <td>Alertme</td>\n",
       "      <td>https://www.ptt.cc/bbs/Gossiping/M.1576066741....</td>\n",
       "    </tr>\n",
       "    <tr>\n",
       "      <th>339</th>\n",
       "      <td>0</td>\n",
       "      <td>[問卦] 姓陸該怎麼取名字？</td>\n",
       "      <td>12/11</td>\n",
       "      <td>stock5566</td>\n",
       "      <td>https://www.ptt.cc/bbs/Gossiping/M.1576066678....</td>\n",
       "    </tr>\n",
       "  </tbody>\n",
       "</table>\n",
       "<p>340 rows × 5 columns</p>\n",
       "</div>"
      ],
      "text/plain": [
       "    push                         title   date        author  \\\n",
       "0     38       [問卦] 什麼時候線上遊戲嘴人起手式是你家死人  12/12        hongou   \n",
       "1      3                 [問卦] 老師我想學別的？  12/12        ddd123   \n",
       "2      0              [問卦] 東x跟祥x要吃哪個好啊  12/12  joywilliamjo   \n",
       "3      2            Re: [問卦] 燒肉要怎麼烤才對?  12/12         CenaC   \n",
       "4      1  Re: [新聞] 減輕長輩過馬路壓力 高市試辦「行人庇護  12/12    ap88994433   \n",
       "..   ...                           ...    ...           ...   \n",
       "335    7  Re: [新聞] 港府前幕僚：台灣可成立境內特區 接納港  12/11     keane9112   \n",
       "336    3         Re: [問卦] 古代人會特別喜歡大奶妹嗎  12/11       demitri   \n",
       "337   X1  Re: [新聞] 港府前幕僚：台灣可成立境內特區 接納港  12/11        X18999   \n",
       "338    8   Re: [新聞] 「你很韓國瑜耶！」成校園新髒話　蔡沁  12/11       Alertme   \n",
       "339    0                [問卦] 姓陸該怎麼取名字？  12/11     stock5566   \n",
       "\n",
       "                                                  href  \n",
       "0    https://www.ptt.cc/bbs/Gossiping/M.1576085167....  \n",
       "1    https://www.ptt.cc/bbs/Gossiping/M.1576085163....  \n",
       "2    https://www.ptt.cc/bbs/Gossiping/M.1576085149....  \n",
       "3    https://www.ptt.cc/bbs/Gossiping/M.1576085113....  \n",
       "4    https://www.ptt.cc/bbs/Gossiping/M.1576084937....  \n",
       "..                                                 ...  \n",
       "335  https://www.ptt.cc/bbs/Gossiping/M.1576066854....  \n",
       "336  https://www.ptt.cc/bbs/Gossiping/M.1576066848....  \n",
       "337  https://www.ptt.cc/bbs/Gossiping/M.1576066765....  \n",
       "338  https://www.ptt.cc/bbs/Gossiping/M.1576066741....  \n",
       "339  https://www.ptt.cc/bbs/Gossiping/M.1576066678....  \n",
       "\n",
       "[340 rows x 5 columns]"
      ]
     },
     "execution_count": 2,
     "metadata": {},
     "output_type": "execute_result"
    }
   ],
   "source": [
    "headers = {'user-agent': 'Mozilla/5.0 (Windows NT 10.0; Win64; x64) AppleWebKit/537.36 (KHTML, like Gecko) Chrome/78.0.3904.108 Safari/537.36'}\n",
    "ptt_df = pd.DataFrame()\n",
    "for a in range(39062, 39045, -1):\n",
    "    url = 'https://www.ptt.cc/bbs/Gossiping/index{page}.html'.format(page = a)\n",
    "    resp = requests.get(url, cookies={'over18': '1'}, headers = headers)\n",
    "    soup = BeautifulSoup(resp.text)\n",
    "\n",
    "    for i in range(len(soup.find_all(\"div\", class_=\"r-ent\"))-1, -1, -1):\n",
    "        if soup.find_all(\"div\", class_=\"r-ent\")[i].a == None:\n",
    "            title = soup.find_all(\"div\", class_=\"r-ent\")[i].find(\"div\", class_ = \"title\").string.strip()\n",
    "        else:\n",
    "            title = soup.find_all(\"div\", class_=\"r-ent\")[i].a.string\n",
    "\n",
    "        # print(title)\n",
    "        push = soup.find_all(\"div\", class_=\"r-ent\")[i].span\n",
    "        push = '0' if push == None else str(push.string)\n",
    "\n",
    "\n",
    "        date = soup.find_all(\"div\", class_=\"date\")[i].string\n",
    "        author = soup.find_all(\"div\", class_ = \"author\")[i].string\n",
    "        if soup.find_all(\"div\", class_ = 'title')[i].a != None:\n",
    "            href = \"https://www.ptt.cc\" + soup.find_all(\"div\", class_ = 'title')[i].a.get('href')\n",
    "        else:\n",
    "            href = \"-\"\n",
    "        temp = (pd.DataFrame({'push': push, 'title': title, 'date': date, 'author': author, 'href': href}, index = [0]))\n",
    "        ptt_df = ptt_df.append(temp, ignore_index=True)\n",
    "\n",
    "ptt_df"
   ]
  },
  {
   "cell_type": "code",
   "execution_count": 5,
   "metadata": {},
   "outputs": [],
   "source": [
    "url = 'https://www.ptt.cc/bbs/Gossiping/index39210.html'\n",
    "resp = requests.get(url, cookies={'over18': '1'})\n",
    "soup = BeautifulSoup(resp.text)"
   ]
  },
  {
   "cell_type": "code",
   "execution_count": 6,
   "metadata": {},
   "outputs": [
    {
     "name": "stdout",
     "output_type": "stream",
     "text": [
      "<div class=\"bbs-screen bbs-content\">500 - Internal Server Error / Server Too Busy.</div>\n"
     ]
    }
   ],
   "source": [
    "for div in soup.select('div'):\n",
    "    pass\n",
    "print(div)"
   ]
  },
  {
   "cell_type": "markdown",
   "metadata": {},
   "source": [
    "## Grab + PyQuery"
   ]
  },
  {
   "cell_type": "code",
   "execution_count": 46,
   "metadata": {},
   "outputs": [],
   "source": [
    "from pyquery import PyQuery as pq"
   ]
  },
  {
   "cell_type": "code",
   "execution_count": 47,
   "metadata": {},
   "outputs": [],
   "source": [
    "dom = pq('https://money.udn.com/money/breaknews', parser = 'html')"
   ]
  },
  {
   "cell_type": "code",
   "execution_count": 63,
   "metadata": {},
   "outputs": [
    {
     "name": "stdout",
     "output_type": "stream",
     "text": [
      "港媒：大選結果有兩種，兩岸方向只有一個\n",
      "行賄各國取得生意被美盯上 愛立信300億和解\n",
      "2020總統電視辯論 蔡陣營拋三態度\n",
      "沙烏地空軍受訓生開槍釀3死 曾批美邪惡之國\n",
      "韓國瑜接民調電話說支持蔡英文 總統選票投韓國瑜\n",
      "藍委陳宜民推女警蒐證曝光 質問「妳是哪個單位？滾出去！」\n",
      "日本職場霸凌致死 上司涉教唆自殺遭函送\n",
      "總統屏東參拜 宣布啟動六堆300年慶典籌備會\n",
      "獲中國頒發名譽博士 何君堯官微：比貓熊還稀少\n",
      "嫌馬桶沖不乾淨 川普指示解決水壓問題\n",
      "慰勞遭藍委強推女警 徐國勇：捍衛警察尊嚴\n",
      "機器人取代例行性工作後 衝著華爾街高薪工作來\n",
      "欠債害妹妹800萬房產被法拍 姊坦言：是我害你那麼慘\n",
      "外交部衝突藍委稱員警未表明身份 徐國勇：非事實\n",
      "郭柯合破裂?柯：老闆不在 幕僚發言會「走鐘」\n",
      "乾冷空氣撥雲見日 天氣風險：下周天氣大回暖\n",
      "楊儒賓捐贈清大千件珍貴文物 揭1949年搶運黃金秘辛\n",
      "30年薪水投入買收藏品 楊儒賓買到太太跟他劃清界線\n",
      "游錫堃：台灣人要像香港 用選票傳達當家作主的意志\n",
      "與宋楚瑜合作引反彈？郭台銘老虎軍團LINE群成員數腰斬\n",
      "民進黨譴責國民黨：如果是男警你還敢推嗎？\n",
      "「重拾公務員尊嚴」張善政：二年1,000億撥補勞保基金\n",
      "統一企業鼓勵集團員工做善事 今為新住民辦耶誕趴\n",
      "冷氣團持續發威冷到下周一 天氣轉乾放晴\n",
      "109年總預算恐卡關 政院：盼支持福國利民政策\n",
      "表現沒漏氣 花敬群：都更危老重建年底上看500案\n",
      "屏東競選總部成立 蔡總統籲投票展現台灣人意志\n",
      "雙北等8縣市百貨 109年元旦內用禁免洗餐具\n",
      "林飛帆：譴責國民黨傷口灑鹽 施暴公務員\n",
      "超萌貼圖、網紅影片 LINE、HAPPY GO讓公益變新潮\n",
      "韓國瑜：外交部粗暴處理立委抗議 部長應負全責\n",
      "5G手機增加電感用量 奇力新躋身前3大受惠可期\n",
      "鄭文傑傳在台遭跟監 陸委會：相關單位已助維安\n",
      "川普政府欲恢復聯邦死刑 最高法院擋下\n",
      "超商超市化身公益平台 夜市老闆每日到門市捐數百元\n",
      "單身孤單寂寞覺得冷？日本「抱抱情人」抱枕讓你有人抱\n",
      "台南「中國城」重生！世界七大令人期待的公園快開放了\n",
      "冷氣團持續發威 黃偉哲親自率隊探視街友\n",
      "找場地開分館 館長：新竹開價是神租金\n",
      "一氧化碳去年全台釀11死 消防編200萬預算補助換熱水器\n",
      "環保局篩出10家疑似汙染鳳山溪工廠 稽查2違規、2續查\n",
      "大批雁鴨過境台北過冬 小水鴨、花嘴鴨都現蹤\n",
      "30年藝人生涯想轉行選市長 許效舜：希望暖暖出市長\n",
      "退將羅文山入府見馬 蔡英文：說明中國滲透無所不在\n",
      "藍委抗議受傷掛彩 韓國瑜：吳釗燮必須負全責任\n",
      "國民黨：外交部聯合警方抹黑立委 要求公布影帶\n",
      "挺韓罷韓同日登場 警政署長強調「會嚴懲暴力」\n",
      "遭批財劃卡新北 吳秉叡： 先跟國民黨北市立委抗議\n",
      "藍委闖外交部起衝突 警政署長有話說\n",
      "外交部抗議女警險遭推倒 徐國勇至保六總隊慰問\n",
      "迴避卡神、匪諜案？ 立院外交國防委員會連兩周考察\n",
      "經濟部長要中市府執法遵守法令 中市府：依法執法\n",
      "中市與19家企業攜手 協助身障勞工職場體驗\n",
      "大行李搭車要預約、塑膠袋要錢！明年玩日本必知九件事\n",
      "等下一場雪！太平山2度 千人追上山\n",
      "超強聯名「麥當勞 x alexanderwang」 瘋搶牛皮漢堡包\n",
      "陳其邁籲票投蔡英文 「我們預算編下去」做社福\n",
      "藍地方人士：王淺秋突辭引不滿 衝擊韓國瑜選情\n",
      "搶客家票！蔡英文宣布國家級規格慶祝六堆開基300周年\n",
      "王立強再爆北京資助韓國瑜 國民黨：王立強是詐騙犯\n"
     ]
    }
   ],
   "source": [
    "for item in dom('tr')('a').items():\n",
    "    print(item.text())"
   ]
  },
  {
   "cell_type": "code",
   "execution_count": null,
   "metadata": {},
   "outputs": [],
   "source": []
  }
 ],
 "metadata": {
  "kernelspec": {
   "display_name": "Python 3",
   "language": "python",
   "name": "python3"
  },
  "language_info": {
   "codemirror_mode": {
    "name": "ipython",
    "version": 3
   },
   "file_extension": ".py",
   "mimetype": "text/x-python",
   "name": "python",
   "nbconvert_exporter": "python",
   "pygments_lexer": "ipython3",
   "version": "3.7.5"
  }
 },
 "nbformat": 4,
 "nbformat_minor": 4
}
