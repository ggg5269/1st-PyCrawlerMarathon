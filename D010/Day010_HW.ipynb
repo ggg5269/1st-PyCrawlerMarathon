{
 "cells": [
  {
   "cell_type": "markdown",
   "metadata": {},
   "source": [
    "# 其他工具：Grab、PyQuery\n",
    "\n",
    "\n",
    "* 利用 Grab 套件的存取 HTML 資源\n",
    "* 利用 PyQuery 套件的解析 HTML 格式\n"
   ]
  },
  {
   "cell_type": "markdown",
   "metadata": {},
   "source": [
    "## 作業目標\n",
    "\n",
    "將之前用 requests + beatifulsoup 實作的方式，改寫成 grab + pyquery，並且比較有哪些地方不同。\n",
    "\n",
    "\n",
    "\n"
   ]
  },
  {
   "cell_type": "markdown",
   "metadata": {},
   "source": [
    "## requests + BeautifulSoup\n"
   ]
  },
  {
   "cell_type": "code",
   "execution_count": 1,
   "metadata": {},
   "outputs": [],
   "source": [
    "import requests\n",
    "import os\n",
    "\n",
    "from bs4 import BeautifulSoup"
   ]
  },
  {
   "cell_type": "code",
   "execution_count": 171,
   "metadata": {},
   "outputs": [
    {
     "data": {
      "text/html": [
       "<div>\n",
       "<style scoped>\n",
       "    .dataframe tbody tr th:only-of-type {\n",
       "        vertical-align: middle;\n",
       "    }\n",
       "\n",
       "    .dataframe tbody tr th {\n",
       "        vertical-align: top;\n",
       "    }\n",
       "\n",
       "    .dataframe thead th {\n",
       "        text-align: right;\n",
       "    }\n",
       "</style>\n",
       "<table border=\"1\" class=\"dataframe\">\n",
       "  <thead>\n",
       "    <tr style=\"text-align: right;\">\n",
       "      <th></th>\n",
       "      <th>push</th>\n",
       "      <th>title</th>\n",
       "      <th>date</th>\n",
       "      <th>author</th>\n",
       "      <th>href</th>\n",
       "    </tr>\n",
       "  </thead>\n",
       "  <tbody>\n",
       "    <tr>\n",
       "      <th>0</th>\n",
       "      <td>9</td>\n",
       "      <td>[問卦] 最喜歡的神奇寶貝是哪一隻？</td>\n",
       "      <td>12/06</td>\n",
       "      <td>harry7319</td>\n",
       "      <td>https://www.ptt.cc/bbs/Gossiping/M.1575597256....</td>\n",
       "    </tr>\n",
       "    <tr>\n",
       "      <th>1</th>\n",
       "      <td>18</td>\n",
       "      <td>[問卦] 急!黑門市場海膽這樣很貴嗎?</td>\n",
       "      <td>12/06</td>\n",
       "      <td>brooksmile</td>\n",
       "      <td>https://www.ptt.cc/bbs/Gossiping/M.1575597256....</td>\n",
       "    </tr>\n",
       "    <tr>\n",
       "      <th>2</th>\n",
       "      <td>2</td>\n",
       "      <td>Re: [問卦] 女生去澳洲打工為什麼要隱瞞</td>\n",
       "      <td>12/06</td>\n",
       "      <td>charlie0112</td>\n",
       "      <td>https://www.ptt.cc/bbs/Gossiping/M.1575597201....</td>\n",
       "    </tr>\n",
       "    <tr>\n",
       "      <th>3</th>\n",
       "      <td>61</td>\n",
       "      <td>[問卦] 卡神要改叫什麼比較好？</td>\n",
       "      <td>12/06</td>\n",
       "      <td>iversonya</td>\n",
       "      <td>https://www.ptt.cc/bbs/Gossiping/M.1575596880....</td>\n",
       "    </tr>\n",
       "    <tr>\n",
       "      <th>4</th>\n",
       "      <td>8</td>\n",
       "      <td>[問卦] 按喇叭的藝術</td>\n",
       "      <td>12/06</td>\n",
       "      <td>jiomi</td>\n",
       "      <td>https://www.ptt.cc/bbs/Gossiping/M.1575596844....</td>\n",
       "    </tr>\n",
       "    <tr>\n",
       "      <th>...</th>\n",
       "      <td>...</td>\n",
       "      <td>...</td>\n",
       "      <td>...</td>\n",
       "      <td>...</td>\n",
       "      <td>...</td>\n",
       "    </tr>\n",
       "    <tr>\n",
       "      <th>275</th>\n",
       "      <td>4</td>\n",
       "      <td>(本文已被刪除) [jason83813]</td>\n",
       "      <td>12/06</td>\n",
       "      <td>-</td>\n",
       "      <td>-</td>\n",
       "    </tr>\n",
       "    <tr>\n",
       "      <th>276</th>\n",
       "      <td>19</td>\n",
       "      <td>[問卦] 買什麼東西最能看出你是財務自由?</td>\n",
       "      <td>12/06</td>\n",
       "      <td>JUNOCARE</td>\n",
       "      <td>https://www.ptt.cc/bbs/Gossiping/M.1575564313....</td>\n",
       "    </tr>\n",
       "    <tr>\n",
       "      <th>277</th>\n",
       "      <td>7</td>\n",
       "      <td>[問卦] 有沒有中谷美紀的八卦？</td>\n",
       "      <td>12/06</td>\n",
       "      <td>deepdish</td>\n",
       "      <td>https://www.ptt.cc/bbs/Gossiping/M.1575564273....</td>\n",
       "    </tr>\n",
       "    <tr>\n",
       "      <th>278</th>\n",
       "      <td>3</td>\n",
       "      <td>Re: [問卦] 說真的 FOXY時代大家都看過人獸交的片吧</td>\n",
       "      <td>12/06</td>\n",
       "      <td>rpg1510</td>\n",
       "      <td>https://www.ptt.cc/bbs/Gossiping/M.1575564156....</td>\n",
       "    </tr>\n",
       "    <tr>\n",
       "      <th>279</th>\n",
       "      <td>3</td>\n",
       "      <td>[問卦] 阿扣抽大麻的時候會太太太嗎?</td>\n",
       "      <td>12/06</td>\n",
       "      <td>ChrisDavis</td>\n",
       "      <td>https://www.ptt.cc/bbs/Gossiping/M.1575564089....</td>\n",
       "    </tr>\n",
       "  </tbody>\n",
       "</table>\n",
       "<p>280 rows × 5 columns</p>\n",
       "</div>"
      ],
      "text/plain": [
       "    push                           title   date       author  \\\n",
       "0      9              [問卦] 最喜歡的神奇寶貝是哪一隻？  12/06    harry7319   \n",
       "1     18             [問卦] 急!黑門市場海膽這樣很貴嗎?  12/06   brooksmile   \n",
       "2      2          Re: [問卦] 女生去澳洲打工為什麼要隱瞞  12/06  charlie0112   \n",
       "3     61                [問卦] 卡神要改叫什麼比較好？  12/06    iversonya   \n",
       "4      8                     [問卦] 按喇叭的藝術  12/06        jiomi   \n",
       "..   ...                             ...    ...          ...   \n",
       "275    4           (本文已被刪除) [jason83813]  12/06            -   \n",
       "276   19           [問卦] 買什麼東西最能看出你是財務自由?  12/06     JUNOCARE   \n",
       "277    7                [問卦] 有沒有中谷美紀的八卦？  12/06     deepdish   \n",
       "278    3  Re: [問卦] 說真的 FOXY時代大家都看過人獸交的片吧  12/06      rpg1510   \n",
       "279    3             [問卦] 阿扣抽大麻的時候會太太太嗎?  12/06   ChrisDavis   \n",
       "\n",
       "                                                  href  \n",
       "0    https://www.ptt.cc/bbs/Gossiping/M.1575597256....  \n",
       "1    https://www.ptt.cc/bbs/Gossiping/M.1575597256....  \n",
       "2    https://www.ptt.cc/bbs/Gossiping/M.1575597201....  \n",
       "3    https://www.ptt.cc/bbs/Gossiping/M.1575596880....  \n",
       "4    https://www.ptt.cc/bbs/Gossiping/M.1575596844....  \n",
       "..                                                 ...  \n",
       "275                                                  -  \n",
       "276  https://www.ptt.cc/bbs/Gossiping/M.1575564313....  \n",
       "277  https://www.ptt.cc/bbs/Gossiping/M.1575564273....  \n",
       "278  https://www.ptt.cc/bbs/Gossiping/M.1575564156....  \n",
       "279  https://www.ptt.cc/bbs/Gossiping/M.1575564089....  \n",
       "\n",
       "[280 rows x 5 columns]"
      ]
     },
     "execution_count": 171,
     "metadata": {},
     "output_type": "execute_result"
    }
   ],
   "source": [
    "headers = {'user-agent': 'Mozilla/5.0 (Windows NT 10.0; Win64; x64) AppleWebKit/537.36 (KHTML, like Gecko) Chrome/78.0.3904.108 Safari/537.36'}\n",
    "ptt_df = pd.DataFrame()\n",
    "for a in range(39214, 39200, -1):\n",
    "    url = 'https://www.ptt.cc/bbs/Gossiping/index{page}.html'.format(page = a)\n",
    "    resp = requests.get(url, cookies={'over18': '1'}, headers = headers)\n",
    "    soup = BeautifulSoup(resp.text)\n",
    "\n",
    "    for i in range(len(soup.find_all(\"div\", class_=\"r-ent\"))-1, -1, -1):\n",
    "        if soup.find_all(\"div\", class_=\"r-ent\")[i].a == None:\n",
    "            title = soup.find_all(\"div\", class_=\"r-ent\")[i].find(\"div\", class_ = \"title\").string.strip()\n",
    "        else:\n",
    "            title = soup.find_all(\"div\", class_=\"r-ent\")[i].a.string\n",
    "\n",
    "        # print(title)\n",
    "        push = soup.find_all(\"div\", class_=\"r-ent\")[i].span\n",
    "        push = '0' if push == None else str(push.string)\n",
    "\n",
    "\n",
    "        date = soup.find_all(\"div\", class_=\"date\")[i].string\n",
    "        author = soup.find_all(\"div\", class_ = \"author\")[i].string\n",
    "        if soup.find_all(\"div\", class_ = 'title')[i].a != None:\n",
    "            href = \"https://www.ptt.cc\" + soup.find_all(\"div\", class_ = 'title')[i].a.get('href')\n",
    "        else:\n",
    "            href = \"-\"\n",
    "        temp = (pd.DataFrame({'push': push, 'title': title, 'date': date, 'author': author, 'href': href}, index = [0]))\n",
    "        ptt_df = ptt_df.append(temp, ignore_index=True)\n",
    "\n",
    "ptt_df"
   ]
  },
  {
   "cell_type": "code",
   "execution_count": 167,
   "metadata": {},
   "outputs": [],
   "source": [
    "url = 'https://www.ptt.cc/bbs/Gossiping/index39210.html'\n",
    "resp = requests.get(url, cookies={'over18': '1'})\n",
    "soup = BeautifulSoup(resp.text)"
   ]
  },
  {
   "cell_type": "code",
   "execution_count": 170,
   "metadata": {},
   "outputs": [],
   "source": [
    "soup.find_all(\"div\", class_ = 'title')[11].a"
   ]
  },
  {
   "cell_type": "markdown",
   "metadata": {},
   "source": [
    "## Grab + PyQuery"
   ]
  },
  {
   "cell_type": "code",
   "execution_count": 2,
   "metadata": {},
   "outputs": [
    {
     "data": {
      "text/plain": [
       "'\\nYour Code\\n'"
      ]
     },
     "execution_count": 2,
     "metadata": {},
     "output_type": "execute_result"
    }
   ],
   "source": [
    "'''\n",
    "Your Code\n",
    "'''"
   ]
  },
  {
   "cell_type": "code",
   "execution_count": null,
   "metadata": {},
   "outputs": [],
   "source": []
  }
 ],
 "metadata": {
  "kernelspec": {
   "display_name": "Python 3",
   "language": "python",
   "name": "python3"
  },
  "language_info": {
   "codemirror_mode": {
    "name": "ipython",
    "version": 3
   },
   "file_extension": ".py",
   "mimetype": "text/x-python",
   "name": "python",
   "nbconvert_exporter": "python",
   "pygments_lexer": "ipython3",
   "version": "3.7.5"
  }
 },
 "nbformat": 4,
 "nbformat_minor": 4
}
