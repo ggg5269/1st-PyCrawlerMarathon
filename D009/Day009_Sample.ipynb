{
 "cells": [
  {
   "cell_type": "markdown",
   "metadata": {},
   "source": [
    "# 範例\n",
    "\n",
    "以正確的副檔名下載網頁中的圖片\n",
    "範例網頁:https://www.ptt.cc/bbs/Beauty/M.1574854555.A.E5C.html\n",
    "\n",
    "Note：因為 PTT 會詢問「是否滿 18 歲」，這邊可以用 cookies 繞過\n",
    "\n",
    "`requests.get(URL, cookies={'over18': '1'}`"
   ]
  },
  {
   "cell_type": "code",
   "execution_count": 4,
   "metadata": {},
   "outputs": [],
   "source": [
    "import requests\n",
    "import os\n",
    "\n",
    "from bs4 import BeautifulSoup\n",
    "from PIL import Image"
   ]
  },
  {
   "cell_type": "code",
   "execution_count": 17,
   "metadata": {},
   "outputs": [],
   "source": [
    "url = 'https://www.ptt.cc/bbs/Beauty/M.1575431263.A.D09.html'\n",
    "resp = requests.get(url, cookies={'over18': '1'})\n",
    "soup = BeautifulSoup(resp.text, 'html.parser')"
   ]
  },
  {
   "cell_type": "code",
   "execution_count": 36,
   "metadata": {},
   "outputs": [],
   "source": [
    "# soup"
   ]
  },
  {
   "cell_type": "code",
   "execution_count": 10,
   "metadata": {},
   "outputs": [
    {
     "name": "stdout",
     "output_type": "stream",
     "text": [
      "Save image downloads/q62UxFo.jpg.jpeg\n",
      "Save image downloads/EX7PFJ6.jpg.jpeg\n",
      "Save image downloads/oPIWtJG.jpg.jpeg\n",
      "Save image downloads/MtkZi9o.jpg.jpeg\n",
      "Save image downloads/oPNjRCA.jpg.jpeg\n",
      "Save image downloads/UFc7N4j.jpg.jpeg\n",
      "Save image downloads/Z0CwZYD.jpg.jpeg\n",
      "Save image downloads/9mIs9xH.jpg.jpeg\n",
      "Save image downloads/mV4RsUk.jpg.jpeg\n",
      "Save image downloads/dOBvAH0.jpg.jpeg\n",
      "Save image downloads/WRi7jZO.jpg.jpeg\n",
      "Save image downloads/U4IXUQ0.gif.gif\n"
     ]
    }
   ],
   "source": [
    "# 決定要儲存的資料夾\n",
    "output_dir = 'downloads'\n",
    "\n",
    "# 假如資料夾不存在就新增一個資料夾\n",
    "if not os.path.exists(output_dir):\n",
    "    os.makedirs(output_dir)\n",
    "\n",
    "# 定位所有圖片的 tag\n",
    "image_tags = soup.find(id='main-content').findChildren('a', recursive=False)\n",
    "for img_tag in image_tags:\n",
    "    # 取得所有圖片在第三方服務的 id\n",
    "    if 'imgur' not in img_tag['href']:\n",
    "        continue\n",
    "    img_id = img_tag['href'].split('/')[-1]\n",
    "    # 組合圖片而非網站的網址\n",
    "    img_url = 'https://i.imgur.com/{}.jpg'.format(img_id)\n",
    "    # 對圖片送出請求\n",
    "    with requests.get(img_url, stream=True) as r:\n",
    "        r.raise_for_status()\n",
    "        # 檢查圖片副檔名\n",
    "        img = Image.open(r.raw)\n",
    "        img_savename = '{outdir}/{img_id}.{img_ext}'.format(\n",
    "            outdir=output_dir, img_id=img_id, img_ext=img.format.lower())\n",
    "        img.save(img_savename)\n",
    "        print('Save image {}'.format(img_savename))"
   ]
  },
  {
   "cell_type": "code",
   "execution_count": 35,
   "metadata": {},
   "outputs": [
    {
     "data": {
      "text/plain": [
       "[<span class=\"f6\">: 剛剛被我們ME兼FW N姐阿法\n",
       " </span>, <span class=\"f6\">: 認證的臂力肥\n",
       " </span>, <span class=\"f6\">: 年齡介於40與不是40之間\n",
       " </span>, <span class=\"f6\">: 也是很有特色的實況主兼coser\n",
       " </span>, <span class=\"f6\">: 鑑於本人希望再上一次表特\n",
       " </span>, <span class=\"f6\">: 所以\n",
       " </span>, <span class=\"f6\">: <a href=\"https://i.imgur.com/7qMQwXT.jpg\" rel=\"nofollow\" target=\"_blank\">http://i.imgur.com/7qMQwXT.jpg</a>\n",
       " </span>, <span class=\"f6\">: <a href=\"https://i.imgur.com/kmK6stR.jpg\" rel=\"nofollow\" target=\"_blank\">http://i.imgur.com/kmK6stR.jpg</a>\n",
       " </span>, <span class=\"f6\">: <a href=\"https://i.imgur.com/hTsX6te.jpg\" rel=\"nofollow\" target=\"_blank\">http://i.imgur.com/hTsX6te.jpg</a>\n",
       " </span>, <span class=\"f6\">: <a href=\"https://i.imgur.com/iTcklfQ.jpg\" rel=\"nofollow\" target=\"_blank\">http://i.imgur.com/iTcklfQ.jpg</a>\n",
       " </span>, <span class=\"f6\">: <a href=\"https://i.imgur.com/HgIA4ei.jpg\" rel=\"nofollow\" target=\"_blank\">http://i.imgur.com/HgIA4ei.jpg</a>\n",
       " </span>, <span class=\"f6\">: 對了 沒有比較沒有傷害\n",
       " </span>, <span class=\"f6\">: <a href=\"https://i.imgur.com/ZQy1zdL.jpg\" rel=\"nofollow\" target=\"_blank\">http://i.imgur.com/ZQy1zdL.jpg</a>\n",
       " </span>, <span class=\"f6\">: <a href=\"https://i.imgur.com/STLwrA7.jpg\" rel=\"nofollow\" target=\"_blank\">http://i.imgur.com/STLwrA7.jpg</a>\n",
       " </span>, <span class=\"f6\">: 希望大家喜歡\n",
       " </span>, <span class=\"f6\">: -----\n",
       " </span>, <span class=\"f6\">: Sent from JPTT on my Samsung SM-A710Y.\n",
       " </span>]"
      ]
     },
     "execution_count": 35,
     "metadata": {},
     "output_type": "execute_result"
    }
   ],
   "source": [
    "soup.find_all(\"span\", {\"class\": \"f6\"})"
   ]
  },
  {
   "cell_type": "code",
   "execution_count": 11,
   "metadata": {},
   "outputs": [
    {
     "data": {
      "text/plain": [
       "[<a href=\"https://i.imgur.com/q62UxFo.jpg\" rel=\"nofollow\" target=\"_blank\">https://i.imgur.com/q62UxFo.jpg</a>,\n",
       " <a href=\"https://i.imgur.com/EX7PFJ6.jpg\" rel=\"nofollow\" target=\"_blank\">https://i.imgur.com/EX7PFJ6.jpg</a>,\n",
       " <a href=\"https://i.imgur.com/oPIWtJG.jpg\" rel=\"nofollow\" target=\"_blank\">https://i.imgur.com/oPIWtJG.jpg</a>,\n",
       " <a href=\"https://i.imgur.com/MtkZi9o.jpg\" rel=\"nofollow\" target=\"_blank\">https://i.imgur.com/MtkZi9o.jpg</a>,\n",
       " <a href=\"https://i.imgur.com/oPNjRCA.jpg\" rel=\"nofollow\" target=\"_blank\">https://i.imgur.com/oPNjRCA.jpg</a>,\n",
       " <a href=\"https://i.imgur.com/UFc7N4j.jpg\" rel=\"nofollow\" target=\"_blank\">https://i.imgur.com/UFc7N4j.jpg</a>,\n",
       " <a href=\"https://i.imgur.com/Z0CwZYD.jpg\" rel=\"nofollow\" target=\"_blank\">https://i.imgur.com/Z0CwZYD.jpg</a>,\n",
       " <a href=\"https://i.imgur.com/9mIs9xH.jpg\" rel=\"nofollow\" target=\"_blank\">https://i.imgur.com/9mIs9xH.jpg</a>,\n",
       " <a href=\"https://i.imgur.com/mV4RsUk.jpg\" rel=\"nofollow\" target=\"_blank\">https://i.imgur.com/mV4RsUk.jpg</a>,\n",
       " <a href=\"https://i.imgur.com/dOBvAH0.jpg\" rel=\"nofollow\" target=\"_blank\">https://i.imgur.com/dOBvAH0.jpg</a>,\n",
       " <a href=\"https://i.imgur.com/WRi7jZO.jpg\" rel=\"nofollow\" target=\"_blank\">https://i.imgur.com/WRi7jZO.jpg</a>,\n",
       " <a href=\"https://i.imgur.com/U4IXUQ0.gif\" rel=\"nofollow\" target=\"_blank\">https://i.imgur.com/U4IXUQ0.gif</a>]"
      ]
     },
     "execution_count": 11,
     "metadata": {},
     "output_type": "execute_result"
    }
   ],
   "source": [
    "image_tags"
   ]
  },
  {
   "cell_type": "code",
   "execution_count": 12,
   "metadata": {},
   "outputs": [
    {
     "data": {
      "text/plain": [
       "'U4IXUQ0.gif'"
      ]
     },
     "execution_count": 12,
     "metadata": {},
     "output_type": "execute_result"
    }
   ],
   "source": [
    "img_id"
   ]
  },
  {
   "cell_type": "code",
   "execution_count": null,
   "metadata": {},
   "outputs": [],
   "source": []
  }
 ],
 "metadata": {
  "kernelspec": {
   "display_name": "Python 3",
   "language": "python",
   "name": "python3"
  },
  "language_info": {
   "codemirror_mode": {
    "name": "ipython",
    "version": 3
   },
   "file_extension": ".py",
   "mimetype": "text/x-python",
   "name": "python",
   "nbconvert_exporter": "python",
   "pygments_lexer": "ipython3",
   "version": "3.7.5"
  }
 },
 "nbformat": 4,
 "nbformat_minor": 4
}
